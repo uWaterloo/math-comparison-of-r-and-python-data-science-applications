{
 "cells": [
  {
   "cell_type": "markdown",
   "id": "3ba10c14-9e29-4875-b3ff-ceaed37effeb",
   "metadata": {},
   "source": [
    "# 3 - Mathematical Operations\n",
    "Using the vector and matrix arrays as defined in section 2, naturally these objects have mathematical operations which can be applied. These operations include vector/matrix addition, subtraction, element-wise products and standard products. There is a strong similarity between how R and the Python NumPy module perform these operations, in most cases the difference in code being a single character or two."
   ]
  },
  {
   "cell_type": "code",
   "execution_count": 1,
   "id": "2e38f79e-2b7a-4140-8fc0-1bfe38ad96af",
   "metadata": {
    "jupyter": {
     "source_hidden": true
    },
    "tags": [
     "hide_code"
    ]
   },
   "outputs": [],
   "source": [
    "import numpy as np\n",
    "import matplotlib.pyplot as plt\n",
    "import pandas as pd"
   ]
  },
  {
   "cell_type": "markdown",
   "id": "db8b5612-5f1b-4f1b-b0c4-48618bc03bb1",
   "metadata": {},
   "source": [
    "## 3.1 - Basic Vector Operations\n",
    "For numeric vectors $x = [x_1 \\dots x_n]^T$ and $y=[y_1 \\dots y_n]^T \\in \\mathbb{R}^n$ the following definitions apply.  \n",
    "   \n",
    "Element-wise vector product as:   \n",
    "<br>\n",
    "$$x \\odot y = [x_1 \\cdot y_1 \\dots x_n \\cdot y_n]^T \\in \\mathbb{R}^n$$ \n",
    "Standard vector product as:   \n",
    "<br>\n",
    "$$x \\cdot y = x^Ty = \\sum_{i=1}^n x_iy_i \\in \\mathbb{R}$$\n",
    "Vector addition as:   \n",
    "<br>\n",
    "$$x+y = [x_1+y_1 \\dots x_n+y_n]^T \\in \\mathbb{R}^n$$"
   ]
  },
  {
   "cell_type": "markdown",
   "id": "da30c72e-8f0a-4680-a44c-0e7b8c13ee7e",
   "metadata": {},
   "source": [
    "### 3.1.1 - NumPy Vector Operations\n",
    "In Python, operations such as element-wise array multiplication, array products and array addition are performed by using the built-in command keys `*`, `@` and `+`. Note that when performing addition or multiplication of an array with a scalar, Python will apply the operation across all dimensions."
   ]
  },
  {
   "cell_type": "code",
   "execution_count": 3,
   "id": "fa5c53ee-1ec3-4da6-9f51-1b9c2a3704ad",
   "metadata": {},
   "outputs": [
    {
     "data": {
      "text/plain": [
       "(array([1, 2, 3]), array([2, 2, 2]))"
      ]
     },
     "execution_count": 3,
     "metadata": {},
     "output_type": "execute_result"
    }
   ],
   "source": [
    "X1 = np.array([1,2,3])\n",
    "X2 = np.array([2,2,2])\n",
    "X1, X2"
   ]
  },
  {
   "cell_type": "code",
   "execution_count": 4,
   "id": "f1def43f-866d-4b41-a241-51e154a8508a",
   "metadata": {},
   "outputs": [
    {
     "data": {
      "text/plain": [
       "array([2, 4, 6])"
      ]
     },
     "execution_count": 4,
     "metadata": {},
     "output_type": "execute_result"
    }
   ],
   "source": [
    "X3 = X1 * X2 # element-wise multiplicaiton\n",
    "X3"
   ]
  },
  {
   "cell_type": "code",
   "execution_count": 5,
   "id": "1450a931-6b69-4068-a6a1-d371c2de50eb",
   "metadata": {},
   "outputs": [
    {
     "data": {
      "text/plain": [
       "12"
      ]
     },
     "execution_count": 5,
     "metadata": {},
     "output_type": "execute_result"
    }
   ],
   "source": [
    "X4 = X1 @ X2 # vector product\n",
    "X4"
   ]
  },
  {
   "cell_type": "code",
   "execution_count": 6,
   "id": "1386a2c3-03e7-414a-b690-6560164b955d",
   "metadata": {},
   "outputs": [
    {
     "data": {
      "text/plain": [
       "array([3, 4, 5])"
      ]
     },
     "execution_count": 6,
     "metadata": {},
     "output_type": "execute_result"
    }
   ],
   "source": [
    "X5 = X1 + X2 # vector addition\n",
    "X5"
   ]
  },
  {
   "cell_type": "markdown",
   "id": "2becca08-5c46-48df-bc48-ab764756f439",
   "metadata": {},
   "source": [
    "Notice here below how the dimension is ignored when applying the operation with a scalar value."
   ]
  },
  {
   "cell_type": "code",
   "execution_count": 7,
   "id": "c31dcae9-eb1b-4868-bf16-c49ffc605355",
   "metadata": {},
   "outputs": [
    {
     "data": {
      "text/plain": [
       "array([3, 4, 5])"
      ]
     },
     "execution_count": 7,
     "metadata": {},
     "output_type": "execute_result"
    }
   ],
   "source": [
    "X6 = X1 + 2 # vector/scalar addition\n",
    "X6"
   ]
  },
  {
   "cell_type": "code",
   "execution_count": 8,
   "id": "f1b77123-bde3-4059-803f-e9f2232e0eec",
   "metadata": {},
   "outputs": [
    {
     "data": {
      "text/plain": [
       "array([2, 4, 6])"
      ]
     },
     "execution_count": 8,
     "metadata": {},
     "output_type": "execute_result"
    }
   ],
   "source": [
    "X7 = X1 * 2 # vector/scalar multiplication\n",
    "X7"
   ]
  },
  {
   "cell_type": "markdown",
   "id": "942a7164-a7d6-4d9e-a307-e1ad150cc7fd",
   "metadata": {},
   "source": [
    "### 3.1.2 - R Vector Operations\n",
    "Similar to Python, in R these operations are performed by using the command keys `*`, `%*%` and `+`. Also when performing addition or multiplication of an array with a scalar, R will apply the operation across all dimensions in the same way as NumPy."
   ]
  },
  {
   "cell_type": "code",
   "execution_count": 2,
   "id": "ea466faf-71c7-4bd4-b38c-d1a9d187d67b",
   "metadata": {},
   "outputs": [
    {
     "name": "stdout",
     "output_type": "stream",
     "text": [
      "[1] 1 2 3\n",
      "[1] 2 2 2\n"
     ]
    }
   ],
   "source": [
    "X1 <- c(1,2,3)\n",
    "X2 <- c(2,2,2)\n",
    "print(X1)\n",
    "print(X2)"
   ]
  },
  {
   "cell_type": "code",
   "execution_count": 3,
   "id": "83372ba7-2de0-4408-af83-78875ef8e58a",
   "metadata": {},
   "outputs": [
    {
     "name": "stdout",
     "output_type": "stream",
     "text": [
      "[1] 2 4 6\n"
     ]
    }
   ],
   "source": [
    "X3 <- X1 * X2 # element-wise multiplication\n",
    "print(X3)"
   ]
  },
  {
   "cell_type": "code",
   "execution_count": 6,
   "id": "6a396d17-4425-4b9f-a87e-1704b1833c4a",
   "metadata": {},
   "outputs": [
    {
     "name": "stdout",
     "output_type": "stream",
     "text": [
      "     [,1]\n",
      "[1,]   12\n"
     ]
    }
   ],
   "source": [
    "X4 <- X1 %*% X2 # vector product\n",
    "print(X4)"
   ]
  },
  {
   "cell_type": "code",
   "execution_count": 7,
   "id": "af2dfb07-1057-460c-9180-403a156e40dc",
   "metadata": {},
   "outputs": [
    {
     "name": "stdout",
     "output_type": "stream",
     "text": [
      "[1] 3 4 5\n"
     ]
    }
   ],
   "source": [
    "X5 <- X1 + X2 # vector addition\n",
    "print(X5)"
   ]
  },
  {
   "cell_type": "markdown",
   "id": "abf6af84-a6ac-4662-b219-ab07125a53c8",
   "metadata": {},
   "source": [
    "Notice how R has the same behaviour as Python when applying the operation with a scalar value."
   ]
  },
  {
   "cell_type": "code",
   "execution_count": 8,
   "id": "ee1c71e9-4d92-4d2e-a2a0-8ba260a62c15",
   "metadata": {},
   "outputs": [
    {
     "name": "stdout",
     "output_type": "stream",
     "text": [
      "[1] 3 4 5\n"
     ]
    }
   ],
   "source": [
    "X6 <- X1 + 2 # vector/scalar addition\n",
    "print(X6)"
   ]
  },
  {
   "cell_type": "code",
   "execution_count": 9,
   "id": "7b8d19cd-2efd-4f32-99b4-61cc058ac685",
   "metadata": {},
   "outputs": [
    {
     "name": "stdout",
     "output_type": "stream",
     "text": [
      "[1] 2 4 6\n"
     ]
    }
   ],
   "source": [
    "X7 <- X1 * 2 # vector/scalar multiplication\n",
    "print(X7)"
   ]
  },
  {
   "cell_type": "markdown",
   "id": "8b99f846-65c3-47ef-81c6-02d5de3c6f3f",
   "metadata": {},
   "source": [
    "## 3.2 - Basic Matrix Operations\n",
    "For matrices $X= [X_1 \\dots X_m] = \\begin{bmatrix} x_{11} \\dots x_{1m}\\\\ \\vdots \\ \\ \\ \\ \\ \\ \\ \\vdots \\\\ x_{n1} \\dots x_{nm} \\end{bmatrix}$ and $Y= [Y_1 \\dots Y_m] = \\begin{bmatrix} y_{11} \\dots y_{1m}\\\\ \\vdots \\ \\ \\ \\ \\ \\ \\ \\vdots \\\\ y_{n1} \\dots y_{nm} \\end{bmatrix}  \\in \\mathbb{R}^{n\\times m}$ with $x_{ij},\\ y_{ij} \\in \\mathbb{R}$ and $X_j$, $Y_j \\in \\mathbb{R}^n$ for $i=1,...,n,\\ j=1,...,m$ one defines:  \n",
    "   \n",
    "Element-wise matrix product as:   \n",
    "<br>\n",
    "$$X \\odot Y = [X_1 \\odot Y_1 \\dots X_m \\odot Y_m] = \\begin{bmatrix} x_{11}y_{11} & \\dots & x_{1m}y_{1m} \\\\ \\vdots & \\ \\ \\ & \\vdots \\\\ x_{n1}y_{n1} & \\dots & x_{nm}y_{nm} \\end{bmatrix}  \\in \\mathbb{R}^{n\\times m}$$\n",
    "Standard matrix product as (dimensions must agree):   \n",
    "<br>\n",
    "$$X^TY = \\begin{bmatrix} X_1^TY_1 & \\dots & X_1^TY_m \\\\ \\vdots & \\ \\ \\ & \\vdots \\\\ X_m^TY_1 & \\dots & X_m^TY_m \\end{bmatrix} = \\begin{bmatrix} \\sum_{i=1}^n x_{1i}y_{1i} & \\dots & \\sum_{i=1}^n x_{1i}y_{mi}\\\\ \\vdots & \\ \\ \\ & \\vdots \\\\ \\sum_{i=1}^n x_{mi}y_{1i} & \\dots & \\sum_{i=1}^n x_{mi}y_{mi} \\end{bmatrix} \\in \\mathbb{R}^{m \\times m}$$\n",
    "Matrix addition as:   \n",
    "<br>\n",
    "$$X+Y = [X_1+Y_1 \\dots X_m+Y_m] = \\begin{bmatrix} x_{11}+y_{11} & \\dots & x_{1m}+y_{1m} \\\\ \\vdots & \\ \\ \\ & \\vdots \\\\ x_{n1}+y_{n1} & \\dots & x_{nm}+y_{nm} \\end{bmatrix}  \\in \\mathbb{R}^{n \\times m}$$"
   ]
  },
  {
   "cell_type": "markdown",
   "id": "88d196b0-3dac-4502-866e-43b090c3f48a",
   "metadata": {},
   "source": [
    "### 3.2.1 - NumPy Matrix Array Operations \n",
    "Operations such as element-wise array multiplication, array products and array addition are performed the same way for matrices as they are for vectors where dimension sizes must agree. It should be noted that the NumPy transpose operator is simply `.T` which can be used on NumPy arrays of any size."
   ]
  },
  {
   "cell_type": "code",
   "execution_count": 10,
   "id": "93ad7453-2fab-4108-a6bf-65c321c1fdd7",
   "metadata": {},
   "outputs": [
    {
     "data": {
      "text/plain": [
       "array([[1, 3, 5],\n",
       "       [2, 4, 6]])"
      ]
     },
     "execution_count": 10,
     "metadata": {},
     "output_type": "execute_result"
    }
   ],
   "source": [
    "X = np.array([[1,3,5],[2,4,6]])\n",
    "X"
   ]
  },
  {
   "cell_type": "code",
   "execution_count": 11,
   "id": "a842cacf-e9f7-46ee-8274-882836c06185",
   "metadata": {},
   "outputs": [
    {
     "data": {
      "text/plain": [
       "array([[ 1,  9, 25],\n",
       "       [ 4, 16, 36]])"
      ]
     },
     "execution_count": 11,
     "metadata": {},
     "output_type": "execute_result"
    }
   ],
   "source": [
    "M1 = X * X # element-wise multiplication\n",
    "M1"
   ]
  },
  {
   "cell_type": "code",
   "execution_count": 12,
   "id": "e51881bd-4dfc-4c33-8af1-cd11d793196c",
   "metadata": {},
   "outputs": [
    {
     "data": {
      "text/plain": [
       "array([[ 5, 11, 17],\n",
       "       [11, 25, 39],\n",
       "       [17, 39, 61]])"
      ]
     },
     "execution_count": 12,
     "metadata": {},
     "output_type": "execute_result"
    }
   ],
   "source": [
    "M2 = X.T @ X # matrix product\n",
    "M2"
   ]
  },
  {
   "cell_type": "code",
   "execution_count": 13,
   "id": "ccac67c1-8575-4326-85be-e743f0d789ba",
   "metadata": {},
   "outputs": [
    {
     "data": {
      "text/plain": [
       "array([[ 2,  6, 10],\n",
       "       [ 4,  8, 12]])"
      ]
     },
     "execution_count": 13,
     "metadata": {},
     "output_type": "execute_result"
    }
   ],
   "source": [
    "M3 = X + X # matrix/matrix addition\n",
    "M3"
   ]
  },
  {
   "cell_type": "markdown",
   "id": "e613e3b5-4dc9-4996-ad26-2d2303b6a15d",
   "metadata": {},
   "source": [
    "Just as was shown with vectors, NumPy will apply the operation across all dimensions when performing addition or multiplication of an array matrix and a scalar $\\in \\mathbb{R}$."
   ]
  },
  {
   "cell_type": "code",
   "execution_count": 14,
   "id": "d2e25834-6806-48bf-9dc0-897aecc1ca53",
   "metadata": {},
   "outputs": [
    {
     "data": {
      "text/plain": [
       "array([[3, 5, 7],\n",
       "       [4, 6, 8]])"
      ]
     },
     "execution_count": 14,
     "metadata": {},
     "output_type": "execute_result"
    }
   ],
   "source": [
    "M4 = X + 2 # matrix/scalar addition\n",
    "M4"
   ]
  },
  {
   "cell_type": "code",
   "execution_count": 15,
   "id": "7f5265fe-3faa-4249-93dc-bddbde79f40a",
   "metadata": {},
   "outputs": [
    {
     "data": {
      "text/plain": [
       "array([[ 2,  6, 10],\n",
       "       [ 4,  8, 12]])"
      ]
     },
     "execution_count": 15,
     "metadata": {},
     "output_type": "execute_result"
    }
   ],
   "source": [
    "M5 = X*2 # matrix/scalar multiplication\n",
    "M5"
   ]
  },
  {
   "cell_type": "markdown",
   "id": "2f5c213d-f772-4783-b627-1c3610b1d14c",
   "metadata": {},
   "source": [
    "### 3.2.2 - R Matrix Operations \n",
    "Matrix operations in R are the same as those used on vectors. It should be noted that the transpose operator in R is simply `t()` which can be applied to both vectors and matrices."
   ]
  },
  {
   "cell_type": "code",
   "execution_count": 11,
   "id": "dd162441-5a83-4c08-a02b-1117b1f14579",
   "metadata": {},
   "outputs": [
    {
     "name": "stdout",
     "output_type": "stream",
     "text": [
      "     [,1] [,2] [,3]\n",
      "[1,]    1    3    5\n",
      "[2,]    2    4    6\n"
     ]
    }
   ],
   "source": [
    "X <- matrix(1:6, nrow = 2, ncol = 3)\n",
    "print(X)"
   ]
  },
  {
   "cell_type": "code",
   "execution_count": 12,
   "id": "f90e51c8-bb66-4e8d-a976-e98bfe2e0018",
   "metadata": {},
   "outputs": [
    {
     "name": "stdout",
     "output_type": "stream",
     "text": [
      "     [,1] [,2] [,3]\n",
      "[1,]    1    9   25\n",
      "[2,]    4   16   36\n"
     ]
    }
   ],
   "source": [
    "M1 <- X * X # element-wise multiplication\n",
    "print(M1)"
   ]
  },
  {
   "cell_type": "code",
   "execution_count": 13,
   "id": "c915f972-f7e6-4368-a8b4-2b31e851a6b3",
   "metadata": {},
   "outputs": [
    {
     "name": "stdout",
     "output_type": "stream",
     "text": [
      "     [,1] [,2] [,3]\n",
      "[1,]    5   11   17\n",
      "[2,]   11   25   39\n",
      "[3,]   17   39   61\n"
     ]
    }
   ],
   "source": [
    "M2 <- t(X) %*% X # matrix product\n",
    "print(M2)"
   ]
  },
  {
   "cell_type": "code",
   "execution_count": 14,
   "id": "89e491fb-c317-4194-8c2b-5fd4c8c7efcd",
   "metadata": {},
   "outputs": [
    {
     "name": "stdout",
     "output_type": "stream",
     "text": [
      "     [,1] [,2] [,3]\n",
      "[1,]    2    6   10\n",
      "[2,]    4    8   12\n"
     ]
    }
   ],
   "source": [
    "M3 <- X + X # matrix/matrix addition\n",
    "print(M3)"
   ]
  },
  {
   "cell_type": "markdown",
   "id": "8ad265b2-cc17-4930-9fad-7c0bf60ea06d",
   "metadata": {},
   "source": [
    "Again, just as with vectors R will apply the operation across all dimensions if applying the operation with a scalar value."
   ]
  },
  {
   "cell_type": "code",
   "execution_count": 15,
   "id": "06c06f1c-b58d-43af-8ce7-ef69275efe05",
   "metadata": {},
   "outputs": [
    {
     "name": "stdout",
     "output_type": "stream",
     "text": [
      "     [,1] [,2] [,3]\n",
      "[1,]    3    5    7\n",
      "[2,]    4    6    8\n"
     ]
    }
   ],
   "source": [
    "M4 <- X + 2 # matrix/scalar addition\n",
    "print(M4)"
   ]
  },
  {
   "cell_type": "code",
   "execution_count": 16,
   "id": "0706da10-6928-4f17-baa4-492c37ba32ce",
   "metadata": {},
   "outputs": [
    {
     "name": "stdout",
     "output_type": "stream",
     "text": [
      "     [,1] [,2] [,3]\n",
      "[1,]    2    6   10\n",
      "[2,]    4    8   12\n"
     ]
    }
   ],
   "source": [
    "M5 <- X*2 # matrix/scalar multiplication\n",
    "print(M5)"
   ]
  },
  {
   "cell_type": "markdown",
   "id": "8162fe54-73f8-4035-ab7c-58f83bb1168b",
   "metadata": {},
   "source": [
    "## 3.3 - Basic Matrix-Vector Operations\n",
    "For vector $x = [x_1 \\dots x_n]^T \\in \\mathbb{R}^n$ and matrix $Y=[Y_1 \\dots Y_m] = \\begin{bmatrix} y_{11} \\dots y_{1m}\\\\ \\vdots \\ \\ \\ \\ \\ \\ \\ \\vdots \\\\ y_{n1} \\dots y_{nm} \\end{bmatrix} \\in \\mathbb{R}^{n\\times m}$ with $Y_j \\in \\mathbb{R}^n$ and $x_i,\\ y_{ij} \\in \\mathbb{R}$ for  $j=1,...,m$, $i=1,...,n$ one defines:\n",
    "    \n",
    "Standard matrix-vector product (dimensions must agree) as:   \n",
    "<br>\n",
    "$$Y^Tx = [Y_1^Tx \\dots Y_m^Tx]^T = [\\sum_{i=1}^n y_{1i}x_{i} \\dots \\sum_{i=1}^n y_{mi}x_{i}]^T \\in \\mathbb{R}^m$$\n",
    "### 3.3.1 - NumPy Matrix-Vector Array Operations \n",
    "Dimensions must agree when computing matrix/vector products. For example one cannot multiply a matrix of size $\\mathbb{R}^{2 \\times 4}$ with a vector of size $\\mathbb{R}^3$. Both Python and R will produce error messages if trying to calculate a matrix/vector product with incompatible dimensions."
   ]
  },
  {
   "cell_type": "code",
   "execution_count": 16,
   "id": "f9397dd4-7eb1-423a-97fa-b1c281e434ac",
   "metadata": {},
   "outputs": [
    {
     "data": {
      "text/plain": [
       "(array([1, 2]),\n",
       " array([[1, 3, 5],\n",
       "        [2, 4, 6]]))"
      ]
     },
     "execution_count": 16,
     "metadata": {},
     "output_type": "execute_result"
    }
   ],
   "source": [
    "x = np.array([1,2])\n",
    "Y = np.array([[1,3,5],[2,4,6]])\n",
    "x, Y"
   ]
  },
  {
   "cell_type": "code",
   "execution_count": 17,
   "id": "c8f17a93-2650-431b-a341-fd5a1932df84",
   "metadata": {},
   "outputs": [
    {
     "data": {
      "text/plain": [
       "array([ 5, 11, 17])"
      ]
     },
     "execution_count": 17,
     "metadata": {},
     "output_type": "execute_result"
    }
   ],
   "source": [
    "M = Y.T @ x # matrix/vector product\n",
    "M"
   ]
  },
  {
   "cell_type": "code",
   "execution_count": 18,
   "id": "82bfa4b5-49a8-4fc4-8dee-2d71639523f8",
   "metadata": {},
   "outputs": [
    {
     "data": {
      "text/plain": [
       "array([[ 1,  4],\n",
       "       [ 3,  8],\n",
       "       [ 5, 12]])"
      ]
     },
     "execution_count": 18,
     "metadata": {},
     "output_type": "execute_result"
    }
   ],
   "source": [
    "M1 = Y.T * x # multiplied across rows\n",
    "M1"
   ]
  },
  {
   "cell_type": "markdown",
   "id": "8781074b-9a85-4045-9464-7b0b5e113dab",
   "metadata": {},
   "source": [
    "Notice above how here each column of $Y^T$ gets multiplied by the value corresponding to the elements of $x$."
   ]
  },
  {
   "cell_type": "code",
   "execution_count": 19,
   "id": "95646967-6066-471a-bd10-f54fd4be4215",
   "metadata": {},
   "outputs": [
    {
     "data": {
      "text/plain": [
       "array([[ 1,  6, 15],\n",
       "       [ 2,  8, 18]])"
      ]
     },
     "execution_count": 19,
     "metadata": {},
     "output_type": "execute_result"
    }
   ],
   "source": [
    "x2 = np.array([1,2,3])\n",
    "M2 = Y * x2 # multiplied across columns\n",
    "M2"
   ]
  },
  {
   "cell_type": "markdown",
   "id": "e5c99ae1-71a4-41e9-ad40-2cbb94979603",
   "metadata": {},
   "source": [
    "Above each column of $Y$ gets multiplied by the value corresponding to the elements of $x2$, Python does not use the same strategy as R in this case. To perform matrix-vector operations the size of the matrix columns and the vector must match."
   ]
  },
  {
   "cell_type": "code",
   "execution_count": 20,
   "id": "9a2daa07-bbf9-4712-8018-ca54b07f12e5",
   "metadata": {},
   "outputs": [
    {
     "data": {
      "text/plain": [
       "array([[2, 4],\n",
       "       [4, 6],\n",
       "       [6, 8]])"
      ]
     },
     "execution_count": 20,
     "metadata": {},
     "output_type": "execute_result"
    }
   ],
   "source": [
    "M3 = X.T + x # addition is the same across rows of X\n",
    "M3"
   ]
  },
  {
   "cell_type": "code",
   "execution_count": 21,
   "id": "9e53e01e-aead-43fd-a339-c93765dcba19",
   "metadata": {},
   "outputs": [
    {
     "data": {
      "text/plain": [
       "array([[2, 5, 8],\n",
       "       [3, 6, 9]])"
      ]
     },
     "execution_count": 21,
     "metadata": {},
     "output_type": "execute_result"
    }
   ],
   "source": [
    "M4 = X + x2 # addition is the same across columns of X\n",
    "M4"
   ]
  },
  {
   "cell_type": "markdown",
   "id": "087f4c15-5298-4eb3-ad81-21c841bfc67e",
   "metadata": {},
   "source": [
    "### 3.3.2 - R Matrix-Vector Array Operations \n",
    "Dimensions must agree to compute matrix/vector products in R. We look to reproduce the operations performed in Python the same way in R."
   ]
  },
  {
   "cell_type": "code",
   "execution_count": 18,
   "id": "8c1c337f-9896-4a2a-8108-f3f1cc370c4e",
   "metadata": {},
   "outputs": [
    {
     "name": "stdout",
     "output_type": "stream",
     "text": [
      "[1] 1 2\n",
      "     [,1] [,2] [,3]\n",
      "[1,]    1    3    5\n",
      "[2,]    2    4    6\n"
     ]
    }
   ],
   "source": [
    "x <- c(1,2)\n",
    "Y <- matrix(1:6, nrow = 2, ncol = 3)\n",
    "print(x)\n",
    "print(Y)"
   ]
  },
  {
   "cell_type": "code",
   "execution_count": 20,
   "id": "2d0905e2-32aa-425f-801a-d5b746e3f2be",
   "metadata": {},
   "outputs": [
    {
     "name": "stdout",
     "output_type": "stream",
     "text": [
      "     [,1]\n",
      "[1,]    5\n",
      "[2,]   11\n",
      "[3,]   17\n"
     ]
    }
   ],
   "source": [
    "M <- t(Y) %*% x # matrix/vector product\n",
    "print(M)"
   ]
  },
  {
   "cell_type": "markdown",
   "id": "a942a080-dc9a-46d1-a096-12bc4e860b0d",
   "metadata": {},
   "source": [
    "If the vector in question is of the same size as the number of matrix rows one can perform a version of element-wise matrix/vector multiplication where each row in the matrix is multiplied by the same element from the vector. One should use caution when attempting operations as this since R will perform the matrix/vector multiplication as long as matrix length (number of elements in the matrix) is a multiple of the vector length."
   ]
  },
  {
   "cell_type": "code",
   "execution_count": 21,
   "id": "f26d762a-2b07-44cd-9adc-5d28d28d3421",
   "metadata": {},
   "outputs": [
    {
     "name": "stdout",
     "output_type": "stream",
     "text": [
      "     [,1] [,2] [,3]\n",
      "[1,]    1    3    5\n",
      "[2,]    4    8   12\n"
     ]
    }
   ],
   "source": [
    "M1 <- Y * x # multiply across rows\n",
    "print(M1)"
   ]
  },
  {
   "cell_type": "code",
   "execution_count": 22,
   "id": "75ad0c2e-1c55-42a5-8de9-2b7ead0340dd",
   "metadata": {},
   "outputs": [
    {
     "name": "stdout",
     "output_type": "stream",
     "text": [
      "     [,1] [,2] [,3]\n",
      "[1,]    1    9   10\n",
      "[2,]    4    4   18\n"
     ]
    }
   ],
   "source": [
    "x2 <- c(1,2,3) # multiplication is no longer across rows\n",
    "M2 <- Y * x2\n",
    "print(M2)"
   ]
  },
  {
   "cell_type": "markdown",
   "id": "1aab1091-4205-454a-a9c9-f826560cce47",
   "metadata": {},
   "source": [
    "This \"rule\" is applied in the same way when performing matrix/vector addition. R will perform the addition as long as matrix length is a multiple of the vector length. If the vector is the same length as the matrix columns, the addition will be applied across the rows."
   ]
  },
  {
   "cell_type": "code",
   "execution_count": 24,
   "id": "ab5f7f22-97b2-45e1-8046-53c86614c7aa",
   "metadata": {},
   "outputs": [
    {
     "name": "stdout",
     "output_type": "stream",
     "text": [
      "     [,1] [,2] [,3]\n",
      "[1,]    2    4    6\n",
      "[2,]    4    6    8\n"
     ]
    }
   ],
   "source": [
    "M3 <- Y + x # addition is the same across rows\n",
    "print(M3)"
   ]
  },
  {
   "cell_type": "code",
   "execution_count": 25,
   "id": "08ecf97b-055f-4498-903b-b65181c776e8",
   "metadata": {},
   "outputs": [
    {
     "name": "stdout",
     "output_type": "stream",
     "text": [
      "     [,1] [,2] [,3]\n",
      "[1,]    2    6    7\n",
      "[2,]    4    5    9\n"
     ]
    }
   ],
   "source": [
    "M4 <- Y + x2 # addition is no longer the same across rows\n",
    "print(M4)"
   ]
  },
  {
   "cell_type": "markdown",
   "id": "d34cf9a1-9bed-4e41-a7b4-8bfe87dcf305",
   "metadata": {},
   "source": [
    "This feature is useful but can lead to unnoticed errors if one is performing such operations with with incorrectly sized objects."
   ]
  },
  {
   "cell_type": "markdown",
   "id": "bea803d1-629c-4a13-8786-23d4b5577331",
   "metadata": {},
   "source": [
    "## 3.4 - Speeding up Matrix Multiplication \n",
    "If performing matrix/matrix or matrix/vector multiplication one can use operators such as `@` and `%*%` or built-in NumPy and R functions instead. These choices will all produce the same result but vary in how long they take, thus certain methods should be used to speed up the computation. This section will specifically show the case of computing the matrix multiplication of $X^TX$.     \n",
    "   \n",
    "The Python `time` module is used for these examples. Extra documentation on the `time()` function base can be found in the Python standard Library [[7]](#il7), it is only used here to track the seconds between operations. Using the `time.time()` function one can extract the current system time at any point during code execution."
   ]
  },
  {
   "cell_type": "code",
   "execution_count": 2,
   "id": "a182a23b-24a1-496a-b721-6860c5969ed6",
   "metadata": {},
   "outputs": [],
   "source": [
    "import time  # for timing code blocks"
   ]
  },
  {
   "cell_type": "markdown",
   "id": "df570025-835c-4a61-8a43-241e2c6843b1",
   "metadata": {},
   "source": [
    "### 3.4.1 - Python Fast Matrix Multiplication \n",
    "Consider the matrix multiplication of $X^TX$ (cross product) for matrix $X$ . If making use of the `@` operator, one can use the built-in NumPy `matmul()` function or the `dot()` function to complete identical computations."
   ]
  },
  {
   "cell_type": "code",
   "execution_count": 23,
   "id": "d9cb4ffc-098b-45f9-8645-58cd209a3389",
   "metadata": {},
   "outputs": [
    {
     "data": {
      "text/plain": [
       "(array([[ 5, 11, 17],\n",
       "        [11, 25, 39],\n",
       "        [17, 39, 61]]),\n",
       " array([[ True,  True,  True],\n",
       "        [ True,  True,  True],\n",
       "        [ True,  True,  True]]))"
      ]
     },
     "execution_count": 23,
     "metadata": {},
     "output_type": "execute_result"
    }
   ],
   "source": [
    "X = np.array([[1,3,5],[2,4,6]])\n",
    "M = X.T @ X                      # direct multiplication with @ \n",
    "M_new = np.matmul(X.T, X)        # matmul() function\n",
    "M_new2 = np.dot(X.T, X)          # dot() function\n",
    "M, (M == M_new2) == (M == M_new) # all produce same result"
   ]
  },
  {
   "cell_type": "markdown",
   "id": "793acfde-ac4d-4807-b470-04ef24a04a89",
   "metadata": {},
   "source": [
    "To convince readers of the difference in speed for these functions a simple experiment is run for varying sizes of matrix when computing $X^TX$. One can observe how `matmul()` and `@` perform the same but both perform the matrix multiplication faster than using the `dot()` function."
   ]
  },
  {
   "cell_type": "code",
   "execution_count": 4,
   "id": "a6787e38-41c6-498b-9a19-a2c66b3c7235",
   "metadata": {},
   "outputs": [],
   "source": [
    "N = np.array([2, 10, 50, 100, 500, 1000, 5000, 7500, 10000, 15000, 20000])\n",
    "\n",
    "time_original = []\n",
    "time_function1 = []\n",
    "time_function2 = []\n",
    "D = np.random.uniform(0,1, size = (20000,20000))\n",
    "\n",
    "for i in range(len(N)):\n",
    "    X = D[0:(N[i]-1), 0:(N[i]-1)]\n",
    "    \n",
    "    t1 = time.time()\n",
    "    M = X.T @ X\n",
    "    time_original.append(time.time()-t1)\n",
    "    \n",
    "    t2 = time.time()\n",
    "    M_new = np.matmul(X.T, X)\n",
    "    time_function1.append(time.time()-t2)\n",
    "    \n",
    "    t3 = time.time()\n",
    "    M_new2 = np.dot(X.T, X)\n",
    "    time_function2.append(time.time()-t3)"
   ]
  },
  {
   "cell_type": "code",
   "execution_count": 5,
   "id": "357d93d0-2bef-4c3f-96de-a579430fe939",
   "metadata": {
    "jupyter": {
     "source_hidden": true
    },
    "tags": [
     "hide_code"
    ]
   },
   "outputs": [
    {
     "data": {
      "text/html": [
       "<style  type=\"text/css\" >\n",
       "</style><table id=\"T_67cbedac_0d13_11ed_a27a_b03af2b6059f\" style='display:inline'><caption>Computational Runtime (seconds)</caption><thead>    <tr>        <th class=\"col_heading level0 col0\" >N for NxN sized matrix</th>        <th class=\"col_heading level0 col1\" >Original @ operation</th>        <th class=\"col_heading level0 col2\" >NumPuy matmul function</th>        <th class=\"col_heading level0 col3\" >NumPy dot function</th>    </tr></thead><tbody>\n",
       "                <tr>\n",
       "                                <td id=\"T_67cbedac_0d13_11ed_a27a_b03af2b6059frow0_col0\" class=\"data row0 col0\" >50</td>\n",
       "                        <td id=\"T_67cbedac_0d13_11ed_a27a_b03af2b6059frow0_col1\" class=\"data row0 col1\" >0.000029</td>\n",
       "                        <td id=\"T_67cbedac_0d13_11ed_a27a_b03af2b6059frow0_col2\" class=\"data row0 col2\" >0.000015</td>\n",
       "                        <td id=\"T_67cbedac_0d13_11ed_a27a_b03af2b6059frow0_col3\" class=\"data row0 col3\" >0.000038</td>\n",
       "            </tr>\n",
       "            <tr>\n",
       "                                <td id=\"T_67cbedac_0d13_11ed_a27a_b03af2b6059frow1_col0\" class=\"data row1 col0\" >100</td>\n",
       "                        <td id=\"T_67cbedac_0d13_11ed_a27a_b03af2b6059frow1_col1\" class=\"data row1 col1\" >0.000097</td>\n",
       "                        <td id=\"T_67cbedac_0d13_11ed_a27a_b03af2b6059frow1_col2\" class=\"data row1 col2\" >0.000070</td>\n",
       "                        <td id=\"T_67cbedac_0d13_11ed_a27a_b03af2b6059frow1_col3\" class=\"data row1 col3\" >0.001514</td>\n",
       "            </tr>\n",
       "            <tr>\n",
       "                                <td id=\"T_67cbedac_0d13_11ed_a27a_b03af2b6059frow2_col0\" class=\"data row2 col0\" >500</td>\n",
       "                        <td id=\"T_67cbedac_0d13_11ed_a27a_b03af2b6059frow2_col1\" class=\"data row2 col1\" >0.003549</td>\n",
       "                        <td id=\"T_67cbedac_0d13_11ed_a27a_b03af2b6059frow2_col2\" class=\"data row2 col2\" >0.003270</td>\n",
       "                        <td id=\"T_67cbedac_0d13_11ed_a27a_b03af2b6059frow2_col3\" class=\"data row2 col3\" >0.005038</td>\n",
       "            </tr>\n",
       "            <tr>\n",
       "                                <td id=\"T_67cbedac_0d13_11ed_a27a_b03af2b6059frow3_col0\" class=\"data row3 col0\" >1000</td>\n",
       "                        <td id=\"T_67cbedac_0d13_11ed_a27a_b03af2b6059frow3_col1\" class=\"data row3 col1\" >0.009449</td>\n",
       "                        <td id=\"T_67cbedac_0d13_11ed_a27a_b03af2b6059frow3_col2\" class=\"data row3 col2\" >0.008407</td>\n",
       "                        <td id=\"T_67cbedac_0d13_11ed_a27a_b03af2b6059frow3_col3\" class=\"data row3 col3\" >0.015854</td>\n",
       "            </tr>\n",
       "            <tr>\n",
       "                                <td id=\"T_67cbedac_0d13_11ed_a27a_b03af2b6059frow4_col0\" class=\"data row4 col0\" >5000</td>\n",
       "                        <td id=\"T_67cbedac_0d13_11ed_a27a_b03af2b6059frow4_col1\" class=\"data row4 col1\" >0.282705</td>\n",
       "                        <td id=\"T_67cbedac_0d13_11ed_a27a_b03af2b6059frow4_col2\" class=\"data row4 col2\" >0.222986</td>\n",
       "                        <td id=\"T_67cbedac_0d13_11ed_a27a_b03af2b6059frow4_col3\" class=\"data row4 col3\" >1.096729</td>\n",
       "            </tr>\n",
       "            <tr>\n",
       "                                <td id=\"T_67cbedac_0d13_11ed_a27a_b03af2b6059frow5_col0\" class=\"data row5 col0\" >7500</td>\n",
       "                        <td id=\"T_67cbedac_0d13_11ed_a27a_b03af2b6059frow5_col1\" class=\"data row5 col1\" >0.642238</td>\n",
       "                        <td id=\"T_67cbedac_0d13_11ed_a27a_b03af2b6059frow5_col2\" class=\"data row5 col2\" >0.625548</td>\n",
       "                        <td id=\"T_67cbedac_0d13_11ed_a27a_b03af2b6059frow5_col3\" class=\"data row5 col3\" >1.836163</td>\n",
       "            </tr>\n",
       "            <tr>\n",
       "                                <td id=\"T_67cbedac_0d13_11ed_a27a_b03af2b6059frow6_col0\" class=\"data row6 col0\" >10000</td>\n",
       "                        <td id=\"T_67cbedac_0d13_11ed_a27a_b03af2b6059frow6_col1\" class=\"data row6 col1\" >1.264970</td>\n",
       "                        <td id=\"T_67cbedac_0d13_11ed_a27a_b03af2b6059frow6_col2\" class=\"data row6 col2\" >1.227064</td>\n",
       "                        <td id=\"T_67cbedac_0d13_11ed_a27a_b03af2b6059frow6_col3\" class=\"data row6 col3\" >3.886481</td>\n",
       "            </tr>\n",
       "            <tr>\n",
       "                                <td id=\"T_67cbedac_0d13_11ed_a27a_b03af2b6059frow7_col0\" class=\"data row7 col0\" >15000</td>\n",
       "                        <td id=\"T_67cbedac_0d13_11ed_a27a_b03af2b6059frow7_col1\" class=\"data row7 col1\" >3.829852</td>\n",
       "                        <td id=\"T_67cbedac_0d13_11ed_a27a_b03af2b6059frow7_col2\" class=\"data row7 col2\" >3.969029</td>\n",
       "                        <td id=\"T_67cbedac_0d13_11ed_a27a_b03af2b6059frow7_col3\" class=\"data row7 col3\" >9.502815</td>\n",
       "            </tr>\n",
       "            <tr>\n",
       "                                <td id=\"T_67cbedac_0d13_11ed_a27a_b03af2b6059frow8_col0\" class=\"data row8 col0\" >20000</td>\n",
       "                        <td id=\"T_67cbedac_0d13_11ed_a27a_b03af2b6059frow8_col1\" class=\"data row8 col1\" >8.174821</td>\n",
       "                        <td id=\"T_67cbedac_0d13_11ed_a27a_b03af2b6059frow8_col2\" class=\"data row8 col2\" >8.056721</td>\n",
       "                        <td id=\"T_67cbedac_0d13_11ed_a27a_b03af2b6059frow8_col3\" class=\"data row8 col3\" >19.351828</td>\n",
       "            </tr>\n",
       "    </tbody></table>"
      ],
      "text/plain": [
       "<pandas.io.formats.style.Styler at 0x7fdea57d62d0>"
      ]
     },
     "execution_count": 5,
     "metadata": {},
     "output_type": "execute_result"
    }
   ],
   "source": [
    "df = pd.DataFrame({'N for NxN sized matrix':N[2:], \n",
    "                   \"Original @ operation\":time_original[2:], \n",
    "                   \"NumPuy matmul function\":time_function1[2:], \n",
    "                   \"NumPy dot function\":time_function2[2:]})\n",
    "df.style.hide_index().set_table_attributes(\"style='display:inline'\").set_caption('Computational Runtime (seconds)')"
   ]
  },
  {
   "cell_type": "markdown",
   "id": "a32f9ffd-7a00-4f42-bd71-73997b7790ea",
   "metadata": {},
   "source": [
    "It should be noted that these computational run times will be different depending on the machine one uses. The main take away is that these trends will still hold, the `dot()` function is not optimal for computing $X^TX$ where as there seems to be no clear advantage in using the `@` operator over the `matmul()` function."
   ]
  },
  {
   "cell_type": "markdown",
   "id": "4927d6fe-b6ff-44b1-91b1-c1a0707789f0",
   "metadata": {},
   "source": [
    "### 3.4.2 - R Fast Matrix Multiplication \n",
    "Similarly in R, If making use of the `%*%` operator one can use the built-in `crossprod()` function instead to complete the computation of $X^TX$."
   ]
  },
  {
   "cell_type": "code",
   "execution_count": 27,
   "id": "cd8f7ec6-37ce-4e82-bb74-c15bfc2750ed",
   "metadata": {},
   "outputs": [
    {
     "name": "stdout",
     "output_type": "stream",
     "text": [
      "     [,1] [,2] [,3]\n",
      "[1,]    5   11   17\n",
      "[2,]   11   25   39\n",
      "[3,]   17   39   61\n",
      "     [,1] [,2] [,3]\n",
      "[1,] TRUE TRUE TRUE\n",
      "[2,] TRUE TRUE TRUE\n",
      "[3,] TRUE TRUE TRUE\n"
     ]
    }
   ],
   "source": [
    "X <- matrix(1:6, nrow = 2, ncol = 3)\n",
    "M <- t(X) %*% X       # direct multiplication with %*%\n",
    "M_new <- crossprod(X) # can use tcrossprod() for X %*% t(Y)\n",
    "print(M)\n",
    "print(M == M_new)     # produce same result"
   ]
  },
  {
   "cell_type": "markdown",
   "id": "d4287ef8-b6d9-450b-9aad-97ccdd74378e",
   "metadata": {},
   "source": [
    "Similar to what is done above in Python, one can run a simple experiment in R to test the speed difference in these choices. It is shown how the `crossprod()` function outperforms the direct multiplication `%*%`."
   ]
  },
  {
   "cell_type": "code",
   "execution_count": 1,
   "id": "254a5258-c6af-4aab-b43e-5925ccee0239",
   "metadata": {},
   "outputs": [],
   "source": [
    "scales <- c(2, 50, 100, 500, 1000, 5000, 7500, 10000, 15000, 20000)\n",
    "n <- length(scales)\n",
    "time_original <- numeric(n)\n",
    "time_function <- numeric(n)\n",
    "D <- matrix(runif(20000^2, 0, 1), nrow = 20000, ncol = 20000)\n",
    "count <- 1\n",
    "\n",
    "for (i in scales) {\n",
    "    X <- D[1:i,1:i]\n",
    "    \n",
    "    t1 <- Sys.time()\n",
    "    M_original <- t(X) %*% X\n",
    "    time_original[count] <- Sys.time() - t1\n",
    "    \n",
    "    t3 <- Sys.time()\n",
    "    M_function <- crossprod(X)\n",
    "    time_function[count] <- Sys.time() - t3\n",
    "    \n",
    "    count <- count + 1\n",
    "}"
   ]
  },
  {
   "cell_type": "code",
   "execution_count": 2,
   "id": "1b4036d5-58c6-4a80-9f28-dca2aba70260",
   "metadata": {
    "jupyter": {
     "source_hidden": true
    },
    "tags": [
     "hide_code"
    ]
   },
   "outputs": [
    {
     "data": {
      "text/html": [
       "<table class=\"dataframe\">\n",
       "<caption>A matrix: 9 x 3 of type dbl</caption>\n",
       "<thead>\n",
       "\t<tr><th scope=col>N for NxN sized matrix</th><th scope=col>Original %*% operation</th><th scope=col>R corssprod() Function</th></tr>\n",
       "</thead>\n",
       "<tbody>\n",
       "\t<tr><td>   50</td><td> 0.000038</td><td>0.000031</td></tr>\n",
       "\t<tr><td>  100</td><td> 0.002212</td><td>0.000120</td></tr>\n",
       "\t<tr><td>  500</td><td> 0.010255</td><td>0.003107</td></tr>\n",
       "\t<tr><td> 1000</td><td> 0.029246</td><td>0.006029</td></tr>\n",
       "\t<tr><td> 5000</td><td> 0.894934</td><td>0.285218</td></tr>\n",
       "\t<tr><td> 7500</td><td> 2.313212</td><td>0.768992</td></tr>\n",
       "\t<tr><td>10000</td><td> 3.750913</td><td>1.518832</td></tr>\n",
       "\t<tr><td>15000</td><td> 9.552353</td><td>4.071420</td></tr>\n",
       "\t<tr><td>20000</td><td>18.875497</td><td>8.635319</td></tr>\n",
       "</tbody>\n",
       "</table>\n"
      ],
      "text/latex": [
       "A matrix: 9 x 3 of type dbl\n",
       "\\begin{tabular}{lll}\n",
       " N for NxN sized matrix & Original \\%*\\% operation & R corssprod() Function\\\\\n",
       "\\hline\n",
       "\t    50 &  0.000038 & 0.000031\\\\\n",
       "\t   100 &  0.002212 & 0.000120\\\\\n",
       "\t   500 &  0.010255 & 0.003107\\\\\n",
       "\t  1000 &  0.029246 & 0.006029\\\\\n",
       "\t  5000 &  0.894934 & 0.285218\\\\\n",
       "\t  7500 &  2.313212 & 0.768992\\\\\n",
       "\t 10000 &  3.750913 & 1.518832\\\\\n",
       "\t 15000 &  9.552353 & 4.071420\\\\\n",
       "\t 20000 & 18.875497 & 8.635319\\\\\n",
       "\\end{tabular}\n"
      ],
      "text/markdown": [
       "\n",
       "A matrix: 9 x 3 of type dbl\n",
       "\n",
       "| N for NxN sized matrix | Original %*% operation | R corssprod() Function |\n",
       "|---|---|---|\n",
       "|    50 |  0.000038 | 0.000031 |\n",
       "|   100 |  0.002212 | 0.000120 |\n",
       "|   500 |  0.010255 | 0.003107 |\n",
       "|  1000 |  0.029246 | 0.006029 |\n",
       "|  5000 |  0.894934 | 0.285218 |\n",
       "|  7500 |  2.313212 | 0.768992 |\n",
       "| 10000 |  3.750913 | 1.518832 |\n",
       "| 15000 |  9.552353 | 4.071420 |\n",
       "| 20000 | 18.875497 | 8.635319 |\n",
       "\n"
      ],
      "text/plain": [
       "      N for NxN sized matrix Original %*% operation R corssprod() Function\n",
       " [1,]    50                   0.000038              0.000031              \n",
       " [2,]   100                   0.002212              0.000120              \n",
       " [3,]   500                   0.010255              0.003107              \n",
       " [4,]  1000                   0.029246              0.006029              \n",
       " [5,]  5000                   0.894934              0.285218              \n",
       " [6,]  7500                   2.313212              0.768992              \n",
       " [7,] 10000                   3.750913              1.518832              \n",
       " [8,] 15000                   9.552353              4.071420              \n",
       " [9,] 20000                  18.875497              8.635319              "
      ]
     },
     "metadata": {},
     "output_type": "display_data"
    }
   ],
   "source": [
    "res <- cbind(scales, round(time_original, 6), round(time_function, 6))\n",
    "colnames(res) <- c('N for NxN sized matrix', \"Original %*% operation\", 'R corssprod() Function')\n",
    "res[2:10,]"
   ]
  },
  {
   "cell_type": "markdown",
   "id": "130f6a02-dc47-49bf-ae04-a8b9554a46bf",
   "metadata": {},
   "source": [
    "Again, these computational runtimes will be different depending on the machine one uses. The main take away is that using the R `crossprod()` function is significantly faster than using the operation `t(X) %*% X`, with larger matrices causing an even bigger discrepancy between run times. Without getting into the details of why this is the case, R's `crossprod()` function is faster because it dose not compute the transpose. Technically the call `t(X) %*% X` has to first take the matrix transpose `t(X)` and then perform the matrix multiplication to get the result, hence performing two separate computations. The `crossprod()` function leverages the structure of X to compute $X^TX$ without having to take the transpose of $X$ at all. "
   ]
  },
  {
   "cell_type": "markdown",
   "id": "7cdade4e-3da7-4df9-99fe-0eb7380ef5ec",
   "metadata": {},
   "source": [
    "## 3.5 - Computing Matrix Properties \n",
    "Computing matrix properties is a very common task in data science. These properties include Matrix inverse, pseudo-inverse and matrix determinant. One can also take advantage of matrix structure (PSD matrix) to compute these properties faster and more efficiently."
   ]
  },
  {
   "cell_type": "markdown",
   "id": "8050fbc3-e41f-4bca-a98d-ed7ae8419171",
   "metadata": {},
   "source": [
    "### 3.5.1 - Matrix Inverse\n",
    "For matrix $A \\in \\mathbb{R}^{n \\times n}$ its inverse $A^{-1}$ is defined such that $AA^{-1}=I_n$ for size $n$ identify matrix $I_n$.   \n",
    "   \n",
    "If the matrix $A$ is positive semi-definite (psd), $x^TAx \\ge 0 \\ \\forall x \\in\\mathbb{R}^n$, then the computation can be done in a more efficient way using a cholesky decomposition where $A=L^TL$ for triangular matrix $L$. Thus one can calculate $A^{-1}=L^{-1}L^{-T}$ where $L^{-1}$ is found using a backwards/forwards solver, which is much faster then a normal inverse calculation."
   ]
  },
  {
   "cell_type": "markdown",
   "id": "73d1f4fc-6a4c-4361-be1a-8b9a022213f0",
   "metadata": {},
   "source": [
    "#### 3.5.1.1 - NumPy Matrix Inverse \n",
    "NumPy provides a linear algebra function base which can be accessed using the call `np.linalg()`. This function base includes a matrix inverse function `inv()`. The inverse can also be computed using a NumPy matrix class `np.matrix()` instead of a 2d array. Where for an invertible matrix $A$ the inverse can be directly computed with the call `A.I`."
   ]
  },
  {
   "cell_type": "code",
   "execution_count": 4,
   "id": "70ddf045-d3f5-4940-9e50-c478459060c0",
   "metadata": {},
   "outputs": [
    {
     "data": {
      "text/plain": [
       "array([[0.0882257 , 0.72253488],\n",
       "       [0.98528755, 0.27361679]])"
      ]
     },
     "execution_count": 4,
     "metadata": {},
     "output_type": "execute_result"
    }
   ],
   "source": [
    "# 2d NumPy array\n",
    "M = np.random.uniform(0,1, size = (2,2))\n",
    "M"
   ]
  },
  {
   "cell_type": "code",
   "execution_count": 5,
   "id": "6931a5d9-aca7-4f7f-82d3-5d7809cb21f9",
   "metadata": {},
   "outputs": [
    {
     "data": {
      "text/plain": [
       "array([[-0.39783495,  1.05055551],\n",
       "       [ 1.43259419, -0.12827892]])"
      ]
     },
     "execution_count": 5,
     "metadata": {},
     "output_type": "execute_result"
    }
   ],
   "source": [
    "# Inverse with NumPy function\n",
    "M_inv1 = np.linalg.inv(M)\n",
    "M_inv1"
   ]
  },
  {
   "cell_type": "code",
   "execution_count": 6,
   "id": "08ad8932-ca89-4a40-af7e-0a90510e17ee",
   "metadata": {},
   "outputs": [
    {
     "data": {
      "text/plain": [
       "matrix([[ True,  True],\n",
       "        [ True,  True]])"
      ]
     },
     "execution_count": 6,
     "metadata": {},
     "output_type": "execute_result"
    }
   ],
   "source": [
    "# Inverse with NumPy matrix class\n",
    "M2 = np.matrix(M)\n",
    "M_inv2 = M2.I\n",
    "M_inv1 == M_inv2  # same result"
   ]
  },
  {
   "cell_type": "markdown",
   "id": "f6ec74fd-709d-4d79-a581-cbccd85901e1",
   "metadata": {},
   "source": [
    "#### 3.5.1.2 - Python SciPy Module\n",
    "SciPy is a collection of mathematical algorithms and convenient functions built on the NumPy extension of Python. This section will make use of the SciPy linear algebra module `scipy.linalg` for its matrix inverse and solving functions. As per the SciPy documentation page [[9] SciPy 1.0: Fundamental Algorithms for Scientific Computing in Python](#ref9) \"`scipy.linalg` contains all the functions in `numpy.linalg` plus some other more advanced ones not contained in `numpy.linalg`. Another advantage of using `scipy.linalg` over `numpy.linalg` is that it is always compiled with BLAS/LAPACK support, while for NumPy this is optional. Therefore, the SciPy version might be faster depending on how NumPy was installed.\"\n",
    "\n",
    "Once installed it can be loaded/imported with the `import` call as done below. It should be noted that version 1.5.2 of SciPy is being used."
   ]
  },
  {
   "cell_type": "code",
   "execution_count": 6,
   "id": "8e0e2853-1166-4efc-a85a-12dbc8c70016",
   "metadata": {
    "jupyter": {
     "source_hidden": true
    },
    "tags": [
     "hide_code"
    ]
   },
   "outputs": [],
   "source": [
    "import scipy"
   ]
  },
  {
   "cell_type": "code",
   "execution_count": 7,
   "id": "0856145e-e3dd-40c8-a14c-e788aba9ba0a",
   "metadata": {},
   "outputs": [
    {
     "name": "stdout",
     "output_type": "stream",
     "text": [
      "1.5.2\n"
     ]
    }
   ],
   "source": [
    "import scipy.linalg as la # linear algebra tools\n",
    "print(scipy.__version__)"
   ]
  },
  {
   "cell_type": "markdown",
   "id": "a58d6e00-20cf-4f68-9074-1552dd93071c",
   "metadata": {},
   "source": [
    "Here the linalg functions are imported from SciPy since we are interested in using its `solve_triangular()` function. This function is used to compute the inverse of a triangular matrix efficiently by forward/backward solving."
   ]
  },
  {
   "cell_type": "markdown",
   "id": "4c648b81-a2b3-42bf-993e-d5a96c9925d1",
   "metadata": {},
   "source": [
    "#### 3.5.1.3 - NumPy/SciPy PSD Matrix Inverse \n",
    "When computing matrix inverse of a PSD matrix, one can take advantage of this structure to speed up computation. One must compute the cholesky decomposition of the matrix to finds its inverse. The cholesky decomposition can be found by using the NumPy function `cholesky()` and the inverse is found with the backwards solver `solve_triangular()`."
   ]
  },
  {
   "cell_type": "code",
   "execution_count": 8,
   "id": "83cc6541-6218-4481-84c8-b1c15d2911e4",
   "metadata": {},
   "outputs": [
    {
     "data": {
      "text/plain": [
       "array([[10.07986811,  7.31169132],\n",
       "       [ 7.31169132, 10.47672508]])"
      ]
     },
     "execution_count": 8,
     "metadata": {},
     "output_type": "execute_result"
    }
   ],
   "source": [
    "# Create PSD matrix\n",
    "M = M + M.T - np.diag(M.diagonal())\n",
    "M = np.matmul(M,M.T)\n",
    "M"
   ]
  },
  {
   "cell_type": "code",
   "execution_count": 12,
   "id": "3fcc274e-7187-4634-91d5-772b65eefeb5",
   "metadata": {},
   "outputs": [
    {
     "data": {
      "text/plain": [
       "(array([[ 0.20092226, -0.14022336],\n",
       "        [-0.14022336,  0.19331135]]),\n",
       " array([[ 0.20092226, -0.14022336],\n",
       "        [-0.14022336,  0.19331135]]))"
      ]
     },
     "execution_count": 12,
     "metadata": {},
     "output_type": "execute_result"
    }
   ],
   "source": [
    "# Normal NumPy inversion\n",
    "inv1 = np.linalg.inv(M)\n",
    "\n",
    "# Cholesky/triangular inversion\n",
    "L = la.solve_triangular(np.linalg.cholesky(M), np.eye(len(M)), lower=True)\n",
    "inv2 = np.matmul(L.T,L)\n",
    "\n",
    "# Equivelent results\n",
    "inv1, inv2"
   ]
  },
  {
   "cell_type": "markdown",
   "id": "4758950b-a6fd-4f57-9678-a0f3e24ede20",
   "metadata": {},
   "source": [
    "Alternatively, the SciPy linalg `solve()` function has a parameter `sym_pos` which can be set to `True` if the matrix in question is PSD. One can see that this approach also produces the same inverse results."
   ]
  },
  {
   "cell_type": "code",
   "execution_count": 17,
   "id": "59d409e6-5346-45d6-aa0d-b5d5c0298b40",
   "metadata": {},
   "outputs": [
    {
     "data": {
      "text/plain": [
       "array([[ 0.20092226, -0.14022336],\n",
       "       [-0.14022336,  0.19331135]])"
      ]
     },
     "execution_count": 17,
     "metadata": {},
     "output_type": "execute_result"
    }
   ],
   "source": [
    "# SciPy psd inversion\n",
    "inv3 = la.solve(M, np.eye(len(M)), sym_pos = True)\n",
    "inv3"
   ]
  },
  {
   "cell_type": "markdown",
   "id": "051ff912-2d74-49df-b24d-27ae06da0f6f",
   "metadata": {},
   "source": [
    "When working with psd matrices always take advantage of this structure. A small experiment can be run to show how much faster psd matrix inverse calculations are if using a cholesky method or built in psd method compared to the regular inverse calculation. The internal NumPy `inv()` function is compared to the cholesky method and also the the SciPy psd inverse method (SciPy `solve()` has additional parameters to assume the matrix is psd `assume_a='pos'`)."
   ]
  },
  {
   "cell_type": "code",
   "execution_count": 43,
   "id": "387a5f86-898a-4b96-bf59-3824d583d5f3",
   "metadata": {},
   "outputs": [],
   "source": [
    "N = np.array([2, 50, 100, 500, 1000, 5000, 7500, 10000, 15000, 20000])\n",
    "n = len(N)\n",
    "\n",
    "X = np.random.uniform(0,1, size = (20000, 20000)) # symmetric psd\n",
    "X = X + X.T - np.diag(X.diagonal())\n",
    "X = np.matmul(X,X.T)\n",
    "    \n",
    "time_normal = []\n",
    "time_chole = []\n",
    "time_sci = []\n",
    "\n",
    "for i in range(n):\n",
    "    \n",
    "    M = X[0:N[i], 0:N[i]]\n",
    "    I = np.eye(N[i])\n",
    "\n",
    "    t1 = time.time()\n",
    "    X_inv1 = np.linalg.inv(M)\n",
    "    time_normal.append(time.time()-t1)\n",
    "    \n",
    "    t2 = time.time()\n",
    "    L = la.solve_triangular(np.linalg.cholesky(M), I, lower=True, check_finite=False)\n",
    "    X_inv2 = np.matmul(L.T,L)\n",
    "    time_chole.append(time.time()-t2)\n",
    "    \n",
    "    t3 = time.time()\n",
    "    X_inv3 = la.solve(M, I, sym_pos = True, assume_a='pos', overwrite_a=True, overwrite_b=True, check_finite=False)\n",
    "    time_sci.append(time.time()-t3)"
   ]
  },
  {
   "cell_type": "code",
   "execution_count": 46,
   "id": "a228e38e-0415-4d8b-8674-5ceefeaad8b7",
   "metadata": {
    "jupyter": {
     "source_hidden": true
    },
    "tags": [
     "hide_code"
    ]
   },
   "outputs": [
    {
     "data": {
      "text/html": [
       "<style  type=\"text/css\" >\n",
       "</style><table id=\"T_523b6fba_09fa_11ed_a372_b03af2b6059f\" style='display:inline'><caption>Computational Runtime (seconds)</caption><thead>    <tr>        <th class=\"col_heading level0 col0\" >N for NxN Matrix</th>        <th class=\"col_heading level0 col1\" >NumPy Basic Inverse</th>        <th class=\"col_heading level0 col2\" >Cholesky/Triangular Inverse</th>        <th class=\"col_heading level0 col3\" >SciPy Inverse</th>    </tr></thead><tbody>\n",
       "                <tr>\n",
       "                                <td id=\"T_523b6fba_09fa_11ed_a372_b03af2b6059frow0_col0\" class=\"data row0 col0\" >50</td>\n",
       "                        <td id=\"T_523b6fba_09fa_11ed_a372_b03af2b6059frow0_col1\" class=\"data row0 col1\" >0.000432</td>\n",
       "                        <td id=\"T_523b6fba_09fa_11ed_a372_b03af2b6059frow0_col2\" class=\"data row0 col2\" >0.000211</td>\n",
       "                        <td id=\"T_523b6fba_09fa_11ed_a372_b03af2b6059frow0_col3\" class=\"data row0 col3\" >0.000112</td>\n",
       "            </tr>\n",
       "            <tr>\n",
       "                                <td id=\"T_523b6fba_09fa_11ed_a372_b03af2b6059frow1_col0\" class=\"data row1 col0\" >100</td>\n",
       "                        <td id=\"T_523b6fba_09fa_11ed_a372_b03af2b6059frow1_col1\" class=\"data row1 col1\" >0.000458</td>\n",
       "                        <td id=\"T_523b6fba_09fa_11ed_a372_b03af2b6059frow1_col2\" class=\"data row1 col2\" >0.000471</td>\n",
       "                        <td id=\"T_523b6fba_09fa_11ed_a372_b03af2b6059frow1_col3\" class=\"data row1 col3\" >0.000200</td>\n",
       "            </tr>\n",
       "            <tr>\n",
       "                                <td id=\"T_523b6fba_09fa_11ed_a372_b03af2b6059frow2_col0\" class=\"data row2 col0\" >500</td>\n",
       "                        <td id=\"T_523b6fba_09fa_11ed_a372_b03af2b6059frow2_col1\" class=\"data row2 col1\" >0.020880</td>\n",
       "                        <td id=\"T_523b6fba_09fa_11ed_a372_b03af2b6059frow2_col2\" class=\"data row2 col2\" >0.005580</td>\n",
       "                        <td id=\"T_523b6fba_09fa_11ed_a372_b03af2b6059frow2_col3\" class=\"data row2 col3\" >0.004286</td>\n",
       "            </tr>\n",
       "            <tr>\n",
       "                                <td id=\"T_523b6fba_09fa_11ed_a372_b03af2b6059frow3_col0\" class=\"data row3 col0\" >1000</td>\n",
       "                        <td id=\"T_523b6fba_09fa_11ed_a372_b03af2b6059frow3_col1\" class=\"data row3 col1\" >0.024315</td>\n",
       "                        <td id=\"T_523b6fba_09fa_11ed_a372_b03af2b6059frow3_col2\" class=\"data row3 col2\" >0.048687</td>\n",
       "                        <td id=\"T_523b6fba_09fa_11ed_a372_b03af2b6059frow3_col3\" class=\"data row3 col3\" >0.028815</td>\n",
       "            </tr>\n",
       "            <tr>\n",
       "                                <td id=\"T_523b6fba_09fa_11ed_a372_b03af2b6059frow4_col0\" class=\"data row4 col0\" >5000</td>\n",
       "                        <td id=\"T_523b6fba_09fa_11ed_a372_b03af2b6059frow4_col1\" class=\"data row4 col1\" >1.129247</td>\n",
       "                        <td id=\"T_523b6fba_09fa_11ed_a372_b03af2b6059frow4_col2\" class=\"data row4 col2\" >0.899440</td>\n",
       "                        <td id=\"T_523b6fba_09fa_11ed_a372_b03af2b6059frow4_col3\" class=\"data row4 col3\" >0.822636</td>\n",
       "            </tr>\n",
       "            <tr>\n",
       "                                <td id=\"T_523b6fba_09fa_11ed_a372_b03af2b6059frow5_col0\" class=\"data row5 col0\" >7500</td>\n",
       "                        <td id=\"T_523b6fba_09fa_11ed_a372_b03af2b6059frow5_col1\" class=\"data row5 col1\" >2.702918</td>\n",
       "                        <td id=\"T_523b6fba_09fa_11ed_a372_b03af2b6059frow5_col2\" class=\"data row5 col2\" >2.209273</td>\n",
       "                        <td id=\"T_523b6fba_09fa_11ed_a372_b03af2b6059frow5_col3\" class=\"data row5 col3\" >2.119805</td>\n",
       "            </tr>\n",
       "            <tr>\n",
       "                                <td id=\"T_523b6fba_09fa_11ed_a372_b03af2b6059frow6_col0\" class=\"data row6 col0\" >10000</td>\n",
       "                        <td id=\"T_523b6fba_09fa_11ed_a372_b03af2b6059frow6_col1\" class=\"data row6 col1\" >7.565928</td>\n",
       "                        <td id=\"T_523b6fba_09fa_11ed_a372_b03af2b6059frow6_col2\" class=\"data row6 col2\" >4.326654</td>\n",
       "                        <td id=\"T_523b6fba_09fa_11ed_a372_b03af2b6059frow6_col3\" class=\"data row6 col3\" >4.271921</td>\n",
       "            </tr>\n",
       "            <tr>\n",
       "                                <td id=\"T_523b6fba_09fa_11ed_a372_b03af2b6059frow7_col0\" class=\"data row7 col0\" >15000</td>\n",
       "                        <td id=\"T_523b6fba_09fa_11ed_a372_b03af2b6059frow7_col1\" class=\"data row7 col1\" >12.245309</td>\n",
       "                        <td id=\"T_523b6fba_09fa_11ed_a372_b03af2b6059frow7_col2\" class=\"data row7 col2\" >11.531817</td>\n",
       "                        <td id=\"T_523b6fba_09fa_11ed_a372_b03af2b6059frow7_col3\" class=\"data row7 col3\" >13.766104</td>\n",
       "            </tr>\n",
       "            <tr>\n",
       "                                <td id=\"T_523b6fba_09fa_11ed_a372_b03af2b6059frow8_col0\" class=\"data row8 col0\" >20000</td>\n",
       "                        <td id=\"T_523b6fba_09fa_11ed_a372_b03af2b6059frow8_col1\" class=\"data row8 col1\" >24.037661</td>\n",
       "                        <td id=\"T_523b6fba_09fa_11ed_a372_b03af2b6059frow8_col2\" class=\"data row8 col2\" >24.183464</td>\n",
       "                        <td id=\"T_523b6fba_09fa_11ed_a372_b03af2b6059frow8_col3\" class=\"data row8 col3\" >26.564049</td>\n",
       "            </tr>\n",
       "    </tbody></table>"
      ],
      "text/plain": [
       "<pandas.io.formats.style.Styler at 0x7fa6347d5950>"
      ]
     },
     "execution_count": 46,
     "metadata": {},
     "output_type": "execute_result"
    }
   ],
   "source": [
    "df = pd.DataFrame({'N for NxN Matrix':N[1:], \n",
    "                   \"NumPy Basic Inverse\":time_normal[1:], \n",
    "                   \"Cholesky/Triangular Inverse\":time_chole[1:], \n",
    "                   \"SciPy Inverse\":time_sci[1:]})\n",
    "df.style.hide_index().set_table_attributes(\"style='display:inline'\").set_caption('Computational Runtime (seconds)')"
   ]
  },
  {
   "cell_type": "markdown",
   "id": "3ac60037-a0b6-4d42-a7ca-786de0f2b371",
   "metadata": {},
   "source": [
    "Note: Run times will vary depending on the machine one uses. The main take away is that using the cholesky method with NumPy is advantageous for matrices smaller than 20000x20000. One can see that for the large matrix, the NumPy `inv()` function actually out-performs the cholesky and SciPy methods. This is because the NumPy `inv()` function contains internal multi-processing tools which start to have an effect in decreasing run time if using a large enough matrix. For smaller matrices the multi-processing tools do not have as much of an effect which leads to the cholesky and SciPy methods being faster. "
   ]
  },
  {
   "cell_type": "markdown",
   "id": "be662cac-9a22-4446-9120-89404a09562e",
   "metadata": {},
   "source": [
    "#### 3.5.1.4 - R Matrix Inverse \n",
    "R has a built in `solve()` function which can be used to compute the matrix inverse. `solve()` is used to find solutions for $Ax = b \\Rightarrow x = A^{-1}b$ but calling `solve(A)` will compute $A^{-1}$ directly."
   ]
  },
  {
   "cell_type": "code",
   "execution_count": 29,
   "id": "b9554f6a-67c9-425d-8781-9f35c041f952",
   "metadata": {},
   "outputs": [
    {
     "name": "stdout",
     "output_type": "stream",
     "text": [
      "          [,1]      [,2]\n",
      "[1,] 0.3010248 0.4155825\n",
      "[2,] 0.1056157 0.5757500\n"
     ]
    }
   ],
   "source": [
    "M <- matrix(runif(4, 0, 1), ncol = 2)\n",
    "print(M)"
   ]
  },
  {
   "cell_type": "code",
   "execution_count": 30,
   "id": "42c177e5-df6c-4d38-9eff-df590427fc30",
   "metadata": {},
   "outputs": [
    {
     "name": "stdout",
     "output_type": "stream",
     "text": [
      "           [,1]      [,2]\n",
      "[1,]  4.4485912 -3.211041\n",
      "[2,] -0.8160505  2.325899\n"
     ]
    }
   ],
   "source": [
    "M_inv <- solve(M) # to find inverse.\n",
    "print(M_inv)"
   ]
  },
  {
   "cell_type": "code",
   "execution_count": 34,
   "id": "a6dae48d-2886-47b5-b8df-8d5da5d3af22",
   "metadata": {},
   "outputs": [
    {
     "name": "stdout",
     "output_type": "stream",
     "text": [
      "             [,1]          [,2]\n",
      "[1,]  1.00000e+00 -5.321529e-17\n",
      "[2,] -3.12986e-18  1.000000e+00\n"
     ]
    }
   ],
   "source": [
    "print(M %*% M_inv) # check for idenity"
   ]
  },
  {
   "cell_type": "markdown",
   "id": "59c84b37-888f-4d29-8253-5894e88c5663",
   "metadata": {},
   "source": [
    "#### 3.5.1.5 - R PSD Matrix Inverse \n",
    "In R the psd matrix inverse can also use the same cholesky strategy to speed things up. This is done with the R functions `chol()` and `backsolve()`."
   ]
  },
  {
   "cell_type": "code",
   "execution_count": 36,
   "id": "da24c105-2b23-40c6-9305-d26c67d75044",
   "metadata": {},
   "outputs": [
    {
     "name": "stdout",
     "output_type": "stream",
     "text": [
      "          [,1]      [,2]\n",
      "[1,]  62.37641 -47.26029\n",
      "[2,] -47.26029  37.46537\n",
      "          [,1]      [,2]\n",
      "[1,]  62.37641 -47.26029\n",
      "[2,] -47.26029  37.46537\n"
     ]
    }
   ],
   "source": [
    "M <- M + t(M) - diag(diag(M)) # symmetric psd M\n",
    "M <- crossprod(M)\n",
    "\n",
    "L <- chol(M)                         # cholesky\n",
    "L_inv <- backsolve(L, diag(ncol(L))) # triangular inverse\n",
    "inv1 <- tcrossprod(L_inv)       \n",
    "inv2 <- solve(M)\n",
    "print(inv1)\n",
    "print(inv2)                          # same results "
   ]
  },
  {
   "cell_type": "markdown",
   "id": "b3ab7f5e-26e6-4dc5-a7a3-52da11a28d80",
   "metadata": {},
   "source": [
    "A small experiment can also be run in R to show how much faster psd matrix inverse calculations are if using a cholesky decomposition compared to the regular inverse function."
   ]
  },
  {
   "cell_type": "code",
   "execution_count": 3,
   "id": "21177aa0-0a40-4734-bc6a-be9a65888b37",
   "metadata": {},
   "outputs": [],
   "source": [
    "scales <- c(2, 50, 100, 500, 1000, 5000, 7500, 10000, 15000, 20000)\n",
    "n <- length(scales)\n",
    "time_solve <- numeric(n)\n",
    "time_chol <- numeric(n)\n",
    "\n",
    "# Generate psd matrix\n",
    "X <- matrix(runif(20000^2, 0, 1), nrow = 20000, ncol = 20000)\n",
    "X <- 0.5 * (t(X) + X) - diag(diag(X))\n",
    "X <- crossprod(X)\n",
    "count <- 1\n",
    "\n",
    "for (i in scales) {\n",
    "    M <- X[1:i, 1:i]\n",
    "    \n",
    "    t1 <- Sys.time()\n",
    "    inv1 <- solve(M)\n",
    "    time_solve[count] <- Sys.time() - t1\n",
    "  \n",
    "    t3 <- Sys.time()\n",
    "    L <- chol(M)\n",
    "    L_inv <- backsolve(L, diag(ncol(L)))\n",
    "    inv2 <- tcrossprod(L_inv)\n",
    "    time_chol[count] <- Sys.time() - t3\n",
    "    \n",
    "    count <- count + 1\n",
    "}"
   ]
  },
  {
   "cell_type": "code",
   "execution_count": 5,
   "id": "38b560b5-7ea9-4ce5-8715-146394d9eff8",
   "metadata": {
    "jupyter": {
     "source_hidden": true
    },
    "tags": [
     "hide_code"
    ]
   },
   "outputs": [
    {
     "data": {
      "text/html": [
       "<table class=\"dataframe\">\n",
       "<caption>A matrix: 9 x 3 of type dbl</caption>\n",
       "<thead>\n",
       "\t<tr><th scope=col>N for NxN sized matrix</th><th scope=col>Original 'solve()' Inverse </th><th scope=col>Cholesky Inverse Method</th></tr>\n",
       "</thead>\n",
       "<tbody>\n",
       "\t<tr><td>   50</td><td> 0.001137</td><td> 0.000117</td></tr>\n",
       "\t<tr><td>  100</td><td> 0.005223</td><td> 0.000315</td></tr>\n",
       "\t<tr><td>  500</td><td> 0.456043</td><td> 0.005908</td></tr>\n",
       "\t<tr><td> 1000</td><td> 1.421121</td><td> 0.026170</td></tr>\n",
       "\t<tr><td> 5000</td><td> 5.334972</td><td> 0.847194</td></tr>\n",
       "\t<tr><td> 7500</td><td> 7.199269</td><td> 1.962065</td></tr>\n",
       "\t<tr><td>10000</td><td>10.100626</td><td> 4.224895</td></tr>\n",
       "\t<tr><td>15000</td><td>20.104878</td><td>10.673056</td></tr>\n",
       "\t<tr><td>20000</td><td>35.091830</td><td>24.792031</td></tr>\n",
       "</tbody>\n",
       "</table>\n"
      ],
      "text/latex": [
       "A matrix: 9 x 3 of type dbl\n",
       "\\begin{tabular}{lll}\n",
       " N for NxN sized matrix & Original 'solve()' Inverse  & Cholesky Inverse Method\\\\\n",
       "\\hline\n",
       "\t    50 &  0.001137 &  0.000117\\\\\n",
       "\t   100 &  0.005223 &  0.000315\\\\\n",
       "\t   500 &  0.456043 &  0.005908\\\\\n",
       "\t  1000 &  1.421121 &  0.026170\\\\\n",
       "\t  5000 &  5.334972 &  0.847194\\\\\n",
       "\t  7500 &  7.199269 &  1.962065\\\\\n",
       "\t 10000 & 10.100626 &  4.224895\\\\\n",
       "\t 15000 & 20.104878 & 10.673056\\\\\n",
       "\t 20000 & 35.091830 & 24.792031\\\\\n",
       "\\end{tabular}\n"
      ],
      "text/markdown": [
       "\n",
       "A matrix: 9 x 3 of type dbl\n",
       "\n",
       "| N for NxN sized matrix | Original 'solve()' Inverse  | Cholesky Inverse Method |\n",
       "|---|---|---|\n",
       "|    50 |  0.001137 |  0.000117 |\n",
       "|   100 |  0.005223 |  0.000315 |\n",
       "|   500 |  0.456043 |  0.005908 |\n",
       "|  1000 |  1.421121 |  0.026170 |\n",
       "|  5000 |  5.334972 |  0.847194 |\n",
       "|  7500 |  7.199269 |  1.962065 |\n",
       "| 10000 | 10.100626 |  4.224895 |\n",
       "| 15000 | 20.104878 | 10.673056 |\n",
       "| 20000 | 35.091830 | 24.792031 |\n",
       "\n"
      ],
      "text/plain": [
       "      N for NxN sized matrix Original 'solve()' Inverse \n",
       " [1,]    50                   0.001137                  \n",
       " [2,]   100                   0.005223                  \n",
       " [3,]   500                   0.456043                  \n",
       " [4,]  1000                   1.421121                  \n",
       " [5,]  5000                   5.334972                  \n",
       " [6,]  7500                   7.199269                  \n",
       " [7,] 10000                  10.100626                  \n",
       " [8,] 15000                  20.104878                  \n",
       " [9,] 20000                  35.091830                  \n",
       "      Cholesky Inverse Method\n",
       " [1,]  0.000117              \n",
       " [2,]  0.000315              \n",
       " [3,]  0.005908              \n",
       " [4,]  0.026170              \n",
       " [5,]  0.847194              \n",
       " [6,]  1.962065              \n",
       " [7,]  4.224895              \n",
       " [8,] 10.673056              \n",
       " [9,] 24.792031              "
      ]
     },
     "metadata": {},
     "output_type": "display_data"
    }
   ],
   "source": [
    "res <- cbind(scales, round(time_solve, 6), round(time_chol, 6))\n",
    "colnames(res) <- c('N for NxN sized matrix', \"Original 'solve()' Inverse \", 'Cholesky Inverse Method')\n",
    "res[2:10,]"
   ]
  },
  {
   "cell_type": "markdown",
   "id": "bd4ce6cd-c731-4e4f-a868-2358355dfef5",
   "metadata": {},
   "source": [
    "Note: Run times will vary depending on the machine one uses. The main take away is that using the cholesky method in R will significantly reduce computational run time. This difference in speed will increase as the size of the matrix in question increases. This should be great motivation to always take advantage of psd matrix structure in R. "
   ]
  },
  {
   "cell_type": "markdown",
   "id": "8e594023-8296-45d8-80bf-e9fb9841c217",
   "metadata": {},
   "source": [
    "### 3.5.2 - Matrix Pesudo-Inverse\n",
    "If the matrix inverse does not exist one can calculate its pseudo inverse. The pseudo inverse of a matrix $A \\in \\mathbb{R}^{n \\times m}$ notation $A^+$, is defined as:   \n",
    "   \n",
    "$A^+ = (A^TA)^{-1}A^T$ if $A$ is full column rank,   \n",
    "$A^+ = A^T(AA^T)^{-1}$ if $A$ is full row rank and   \n",
    "$A^+ = A^{-1}$ if $A$ is square, invertible"
   ]
  },
  {
   "cell_type": "markdown",
   "id": "aca2bf79-c734-45e1-9714-5469ac2125ef",
   "metadata": {},
   "source": [
    "#### 3.5.2.1 - SciPy Pseudo Inverse \n",
    "This is done with the SciPy linear algebra function base. The `pinv()` function compute the matrix pseudo inverse."
   ]
  },
  {
   "cell_type": "code",
   "execution_count": 47,
   "id": "aa7da70e-d71f-40e7-b98a-d26d41ede098",
   "metadata": {},
   "outputs": [
    {
     "data": {
      "text/plain": [
       "array([[1, 2],\n",
       "       [3, 4],\n",
       "       [5, 6]])"
      ]
     },
     "execution_count": 47,
     "metadata": {},
     "output_type": "execute_result"
    }
   ],
   "source": [
    "A = np.array([[1,2],[3,4], [5,6]])\n",
    "A"
   ]
  },
  {
   "cell_type": "code",
   "execution_count": 48,
   "id": "74f0881c-af46-4959-825d-ed82af0c7234",
   "metadata": {},
   "outputs": [
    {
     "data": {
      "text/plain": [
       "array([[1.0000000e+00, 8.8817842e-16],\n",
       "       [0.0000000e+00, 1.0000000e+00]])"
      ]
     },
     "execution_count": 48,
     "metadata": {},
     "output_type": "execute_result"
    }
   ],
   "source": [
    "A_pinv = la.pinv(A)\n",
    "A_pinv @ A # approximates inverse so that A*A^{-1} = I"
   ]
  },
  {
   "cell_type": "markdown",
   "id": "16443aab-df71-4457-b375-554c4997868a",
   "metadata": {},
   "source": [
    "#### 3.5.2.2 - R Package pracma (Practical Numerical Math Functions)\n",
    "As per the pracma documentation page [[10] Package 'pracma' (Practical Numerical Math Functions)](#ref10), the package 'Provides a large number of functions from numerical analysis and linear algebra, numerical optimization, differential equations, time series, plus some well-known special mathematical functions. Uses 'MATLAB' function names where appropriate to simplify porting.' One can load this package with the call `library(pracma)` if already installed, if not installed one can download the package from CRAN using the call `install.packages('pracma')`. We will use the peudo-inverse function in pracma. It should be noted that version 2.2.9 of the pracma package is being used."
   ]
  },
  {
   "cell_type": "code",
   "execution_count": 1,
   "id": "e366c06a-5568-41a7-b84a-d630cf100570",
   "metadata": {},
   "outputs": [
    {
     "data": {
      "text/plain": [
       "[1] ‘2.2.9’"
      ]
     },
     "metadata": {},
     "output_type": "display_data"
    }
   ],
   "source": [
    "# install.packages('pracma') -> run if not installed\n",
    "library(pracma)\n",
    "packageVersion(\"pracma\")"
   ]
  },
  {
   "cell_type": "markdown",
   "id": "1924a5b0-a902-4aaf-8de5-9680eccf950f",
   "metadata": {},
   "source": [
    "#### 3.5.2.3 - R Pseudo Inverse \n",
    "We will make use of the pracma function `pinv()` to calculate matrix pseudo inverse."
   ]
  },
  {
   "cell_type": "code",
   "execution_count": 7,
   "id": "3a1be15f-da1d-4a72-885e-9336602a314f",
   "metadata": {},
   "outputs": [
    {
     "name": "stdout",
     "output_type": "stream",
     "text": [
      "     [,1] [,2]\n",
      "[1,]    1    2\n",
      "[2,]    3    4\n",
      "[3,]    5    6\n"
     ]
    }
   ],
   "source": [
    "A <- matrix(c(1,3,5,2,4,6), ncol = 2)\n",
    "print(A)"
   ]
  },
  {
   "cell_type": "code",
   "execution_count": 8,
   "id": "6c525609-87ce-4e6a-b4c1-66558d7e3bfd",
   "metadata": {},
   "outputs": [
    {
     "name": "stdout",
     "output_type": "stream",
     "text": [
      "              [,1] [,2]\n",
      "[1,]  1.000000e+00    0\n",
      "[2,] -4.440892e-16    1\n"
     ]
    }
   ],
   "source": [
    "A_pinv <- pinv(A)\n",
    "print(A_pinv %*% A) # approximate inverse so that A*A^{-1} = I"
   ]
  },
  {
   "cell_type": "markdown",
   "id": "069d738e-db39-4bed-ab94-95bb84738af9",
   "metadata": {},
   "source": [
    "### 3.5.3 - Matrix Determinant\n",
    "For matrix $A = \\begin{bmatrix}a_{11} & \\dots & a_{1n} \\\\ \\vdots & \\ddots & \\vdots \\\\ a_{n1} & \\dots & a_{nn} \\end{bmatrix} \\in \\mathbb{R}^{n \\times n}$ let $A(i,j)$ be the $\\mathbb{R}^{(n-1) \\times (n-1)}$ sized matrix formed by deleting the ith row and jth column of $A$.   \n",
    "\n",
    "The determinant of $A$ can then be defined as:   \n",
    "<br>\n",
    "$$det(A) = |A| = \\sum_{i=1}^n a_{i1} \\cdot (-1)^{i+1} \\cdot det(A(i,1))$$\n",
    " \n",
    "Again, if the matrix $A$ is positive semi-definite (psd), $x^TAx \\ge 0 \\ \\forall x \\in\\mathbb{R}^n$, then the computation can be done in a more efficient way using a cholesky decomposition where $A=L^TL$ for triangular matrix $L$. Since $L$ is triangular one can calculate the determinant of the psd matrix as:    \n",
    "<br>\n",
    "$$det(A) = det(L^T) \\cdot det(L) = (\\prod_{i=1}^n L_{ii})^2$$"
   ]
  },
  {
   "cell_type": "markdown",
   "id": "d2ad2ebc-44ad-4d28-b8e9-8b3d1e4b1bce",
   "metadata": {},
   "source": [
    "#### 3.5.3.1 - SciPy Matrix Determinant \n",
    "To calculate determinant in Python it is recommended to use the SciPy linear algebra function base instead of NumPy. They are virtually the same but SciPy has more options and tends to be more powerful in what it can accomplish. The determinant can be called by using `.det()`."
   ]
  },
  {
   "cell_type": "code",
   "execution_count": 60,
   "id": "ea1c3e55-76cc-4129-baba-c1a80363996a",
   "metadata": {},
   "outputs": [
    {
     "data": {
      "text/plain": [
       "(array([[1, 2],\n",
       "        [3, 4]]),\n",
       " -2.0)"
      ]
     },
     "execution_count": 60,
     "metadata": {},
     "output_type": "execute_result"
    }
   ],
   "source": [
    "X = np.array([[1,2],[3,4]])\n",
    "det = la.det(X)\n",
    "X, det"
   ]
  },
  {
   "cell_type": "markdown",
   "id": "9e54905c-1eaf-417a-849c-c42ce863457b",
   "metadata": {},
   "source": [
    "#### 3.5.3.2 - SciPy PSD Matrix Determinant \n",
    "For a psd matrix, one can again take advantage of this structure to speed up computation. One must compute the cholesky decomposition of the matrix to find the determinant. The determinant of a triangular matrix is the product of its diagonal values."
   ]
  },
  {
   "cell_type": "code",
   "execution_count": 62,
   "id": "b0e0fa9d-ab98-490a-b38b-cd38be8b4737",
   "metadata": {},
   "outputs": [
    {
     "data": {
      "text/plain": [
       "(array([[4., 0., 0., 0.],\n",
       "        [0., 4., 0., 0.],\n",
       "        [0., 0., 4., 0.],\n",
       "        [0., 0., 0., 4.]]),\n",
       " 256.0)"
      ]
     },
     "execution_count": 62,
     "metadata": {},
     "output_type": "execute_result"
    }
   ],
   "source": [
    "X = 4 * np.eye(4)\n",
    "det_eye = la.det(X)\n",
    "X, det_eye"
   ]
  },
  {
   "cell_type": "code",
   "execution_count": 63,
   "id": "37732a57-c42a-45f0-8650-5baa44058e96",
   "metadata": {},
   "outputs": [
    {
     "data": {
      "text/plain": [
       "256.0"
      ]
     },
     "execution_count": 63,
     "metadata": {},
     "output_type": "execute_result"
    }
   ],
   "source": [
    "L = la.cholesky(X)\n",
    "det2 = L.diagonal().prod() ** 2\n",
    "det2 # same result"
   ]
  },
  {
   "cell_type": "markdown",
   "id": "aaf587a3-7fcb-4b92-b276-edfa76d210e8",
   "metadata": {},
   "source": [
    "A small experiment is run comparing normal vs cholseky methods to convince readers of the speed increase."
   ]
  },
  {
   "cell_type": "code",
   "execution_count": 8,
   "id": "9ec987c0-92ec-4e34-b515-3e964e0a500b",
   "metadata": {},
   "outputs": [],
   "source": [
    "N = np.array([2, 50, 100, 500, 1000, 5000, 7500, 10000, 15000, 20000])\n",
    "n = len(N)\n",
    "\n",
    "X = np.random.uniform(0,1, size = (20000, 20000)) # symmetric psd\n",
    "X = X + X.T - np.diag(X.diagonal())\n",
    "X = np.matmul(X,X.T)/20000\n",
    "    \n",
    "time_normal = []\n",
    "time_chole = []\n",
    "\n",
    "for i in range(n):\n",
    "    \n",
    "    M = X[0:N[i], 0:N[i]]\n",
    "\n",
    "    t1 = time.time()\n",
    "    X_inv1 = la.det(M)\n",
    "    time_normal.append(time.time()-t1)\n",
    "    \n",
    "    t2 = time.time()\n",
    "    L = la.cholesky(M)\n",
    "    X_inv2 = L.diagonal().prod() ** 2\n",
    "    time_chole.append(time.time()-t2)"
   ]
  },
  {
   "cell_type": "code",
   "execution_count": 10,
   "id": "aa27a1b3-e569-4468-8c6a-0909cebe8bc2",
   "metadata": {
    "jupyter": {
     "source_hidden": true
    },
    "tags": [
     "hide_code"
    ]
   },
   "outputs": [
    {
     "data": {
      "text/html": [
       "<style  type=\"text/css\" >\n",
       "</style><table id=\"T_d6a445ca_0d1e_11ed_8b54_b03af2b6059f\" style='display:inline'><caption>Computational Runtime (seconds)</caption><thead>    <tr>        <th class=\"col_heading level0 col0\" >N for NxN Matrix</th>        <th class=\"col_heading level0 col1\" >SciPy Basic Determinant</th>        <th class=\"col_heading level0 col2\" >Cholesky Determinant</th>    </tr></thead><tbody>\n",
       "                <tr>\n",
       "                                <td id=\"T_d6a445ca_0d1e_11ed_8b54_b03af2b6059frow0_col0\" class=\"data row0 col0\" >50</td>\n",
       "                        <td id=\"T_d6a445ca_0d1e_11ed_8b54_b03af2b6059frow0_col1\" class=\"data row0 col1\" >0.000381</td>\n",
       "                        <td id=\"T_d6a445ca_0d1e_11ed_8b54_b03af2b6059frow0_col2\" class=\"data row0 col2\" >0.000075</td>\n",
       "            </tr>\n",
       "            <tr>\n",
       "                                <td id=\"T_d6a445ca_0d1e_11ed_8b54_b03af2b6059frow1_col0\" class=\"data row1 col0\" >100</td>\n",
       "                        <td id=\"T_d6a445ca_0d1e_11ed_8b54_b03af2b6059frow1_col1\" class=\"data row1 col1\" >0.000442</td>\n",
       "                        <td id=\"T_d6a445ca_0d1e_11ed_8b54_b03af2b6059frow1_col2\" class=\"data row1 col2\" >0.000169</td>\n",
       "            </tr>\n",
       "            <tr>\n",
       "                                <td id=\"T_d6a445ca_0d1e_11ed_8b54_b03af2b6059frow2_col0\" class=\"data row2 col0\" >500</td>\n",
       "                        <td id=\"T_d6a445ca_0d1e_11ed_8b54_b03af2b6059frow2_col1\" class=\"data row2 col1\" >0.904340</td>\n",
       "                        <td id=\"T_d6a445ca_0d1e_11ed_8b54_b03af2b6059frow2_col2\" class=\"data row2 col2\" >0.003077</td>\n",
       "            </tr>\n",
       "            <tr>\n",
       "                                <td id=\"T_d6a445ca_0d1e_11ed_8b54_b03af2b6059frow3_col0\" class=\"data row3 col0\" >1000</td>\n",
       "                        <td id=\"T_d6a445ca_0d1e_11ed_8b54_b03af2b6059frow3_col1\" class=\"data row3 col1\" >2.433227</td>\n",
       "                        <td id=\"T_d6a445ca_0d1e_11ed_8b54_b03af2b6059frow3_col2\" class=\"data row3 col2\" >0.043376</td>\n",
       "            </tr>\n",
       "            <tr>\n",
       "                                <td id=\"T_d6a445ca_0d1e_11ed_8b54_b03af2b6059frow4_col0\" class=\"data row4 col0\" >5000</td>\n",
       "                        <td id=\"T_d6a445ca_0d1e_11ed_8b54_b03af2b6059frow4_col1\" class=\"data row4 col1\" >8.525671</td>\n",
       "                        <td id=\"T_d6a445ca_0d1e_11ed_8b54_b03af2b6059frow4_col2\" class=\"data row4 col2\" >0.601734</td>\n",
       "            </tr>\n",
       "            <tr>\n",
       "                                <td id=\"T_d6a445ca_0d1e_11ed_8b54_b03af2b6059frow5_col0\" class=\"data row5 col0\" >7500</td>\n",
       "                        <td id=\"T_d6a445ca_0d1e_11ed_8b54_b03af2b6059frow5_col1\" class=\"data row5 col1\" >10.126296</td>\n",
       "                        <td id=\"T_d6a445ca_0d1e_11ed_8b54_b03af2b6059frow5_col2\" class=\"data row5 col2\" >1.279135</td>\n",
       "            </tr>\n",
       "            <tr>\n",
       "                                <td id=\"T_d6a445ca_0d1e_11ed_8b54_b03af2b6059frow6_col0\" class=\"data row6 col0\" >10000</td>\n",
       "                        <td id=\"T_d6a445ca_0d1e_11ed_8b54_b03af2b6059frow6_col1\" class=\"data row6 col1\" >12.639214</td>\n",
       "                        <td id=\"T_d6a445ca_0d1e_11ed_8b54_b03af2b6059frow6_col2\" class=\"data row6 col2\" >1.540401</td>\n",
       "            </tr>\n",
       "            <tr>\n",
       "                                <td id=\"T_d6a445ca_0d1e_11ed_8b54_b03af2b6059frow7_col0\" class=\"data row7 col0\" >15000</td>\n",
       "                        <td id=\"T_d6a445ca_0d1e_11ed_8b54_b03af2b6059frow7_col1\" class=\"data row7 col1\" >16.681865</td>\n",
       "                        <td id=\"T_d6a445ca_0d1e_11ed_8b54_b03af2b6059frow7_col2\" class=\"data row7 col2\" >3.881504</td>\n",
       "            </tr>\n",
       "            <tr>\n",
       "                                <td id=\"T_d6a445ca_0d1e_11ed_8b54_b03af2b6059frow8_col0\" class=\"data row8 col0\" >20000</td>\n",
       "                        <td id=\"T_d6a445ca_0d1e_11ed_8b54_b03af2b6059frow8_col1\" class=\"data row8 col1\" >21.266501</td>\n",
       "                        <td id=\"T_d6a445ca_0d1e_11ed_8b54_b03af2b6059frow8_col2\" class=\"data row8 col2\" >6.762789</td>\n",
       "            </tr>\n",
       "    </tbody></table>"
      ],
      "text/plain": [
       "<pandas.io.formats.style.Styler at 0x7efa38b0c450>"
      ]
     },
     "execution_count": 10,
     "metadata": {},
     "output_type": "execute_result"
    }
   ],
   "source": [
    "df = pd.DataFrame({'N for NxN Matrix':N[1:], \n",
    "                   \"SciPy Basic Determinant\":time_normal[1:], \n",
    "                   \"Cholesky Determinant\":time_chole[1:]})\n",
    "df.style.hide_index().set_table_attributes(\"style='display:inline'\").set_caption('Computational Runtime (seconds)')"
   ]
  },
  {
   "cell_type": "markdown",
   "id": "53bed2d7-cca6-4463-8321-27ddb7716b16",
   "metadata": {},
   "source": [
    "Note: Run times will vary depending on the machine one uses. The main take away is that using a cholesky methods to find the determinant of a psd matrix is significantly more efficient than using a normal determinant calculation. The difference in speed will continue to increase as the size of the matrix in question increases. This should be sufficient motivation in using a cholesky method to calculate the determinant of a psd matrix in Python."
   ]
  },
  {
   "cell_type": "markdown",
   "id": "a2ff6d93-d133-4878-bcca-5bbd10e16cd9",
   "metadata": {},
   "source": [
    "#### 3.5.3.3 - R Matrix Determinant \n",
    "In R one can utilize the built in function `det()` to compute matrix determinant."
   ]
  },
  {
   "cell_type": "code",
   "execution_count": 42,
   "id": "9cb18c43-28b6-4ac9-b35a-9db4db9fc2ef",
   "metadata": {},
   "outputs": [
    {
     "name": "stdout",
     "output_type": "stream",
     "text": [
      "     [,1] [,2]\n",
      "[1,]    1    3\n",
      "[2,]    2    4\n"
     ]
    },
    {
     "data": {
      "text/html": [
       "-2"
      ],
      "text/latex": [
       "-2"
      ],
      "text/markdown": [
       "-2"
      ],
      "text/plain": [
       "[1] -2"
      ]
     },
     "metadata": {},
     "output_type": "display_data"
    }
   ],
   "source": [
    "X <- matrix(c(1,2,3,4), ncol = 2)\n",
    "print(X)\n",
    "det(X)"
   ]
  },
  {
   "cell_type": "markdown",
   "id": "abe466ed-b12f-4891-b222-e2e6c85ea610",
   "metadata": {},
   "source": [
    "#### 3.5.3.4 - R PSD Matrix Determinant \n",
    "For psd matrices the computation can again be greatly sped up. R uses the `diag()` function to extract diagonal elements in a matrix and the `prod()` function to compute the product of an array of elements."
   ]
  },
  {
   "cell_type": "code",
   "execution_count": 44,
   "id": "7394a781-a486-4d99-8fe4-b4b222e3f4e6",
   "metadata": {},
   "outputs": [
    {
     "name": "stdout",
     "output_type": "stream",
     "text": [
      "         [,1]     [,2]\n",
      "[1,] 1.452562 1.448369\n",
      "[2,] 1.448369 1.481538\n"
     ]
    }
   ],
   "source": [
    "X <- matrix(runif(4, 0, 1), nrow = 2, ncol = 2)\n",
    "X <- 0.5 * (t(X) + X)\n",
    "X <- crossprod(X)\n",
    "det1 <- det(X)\n",
    "print(X)"
   ]
  },
  {
   "cell_type": "code",
   "execution_count": 46,
   "id": "0b7a77f1-e869-4461-b395-fce874345965",
   "metadata": {},
   "outputs": [
    {
     "data": {
      "text/html": [
       "0.0542528720289448"
      ],
      "text/latex": [
       "0.0542528720289448"
      ],
      "text/markdown": [
       "0.0542528720289448"
      ],
      "text/plain": [
       "[1] 0.05425287"
      ]
     },
     "metadata": {},
     "output_type": "display_data"
    },
    {
     "data": {
      "text/html": [
       "0.0542528720289448"
      ],
      "text/latex": [
       "0.0542528720289448"
      ],
      "text/markdown": [
       "0.0542528720289448"
      ],
      "text/plain": [
       "[1] 0.05425287"
      ]
     },
     "metadata": {},
     "output_type": "display_data"
    }
   ],
   "source": [
    "L <- chol(X)\n",
    "det2 <- prod(diag(L))**2\n",
    "# same results\n",
    "det1\n",
    "det2"
   ]
  },
  {
   "cell_type": "markdown",
   "id": "bde0494f-d9db-47fe-a99a-745ddf14430b",
   "metadata": {},
   "source": [
    "A small experiment can be run to convince readers of the speed increase."
   ]
  },
  {
   "cell_type": "code",
   "execution_count": 1,
   "id": "915218f1-3b06-4eee-adfc-e10f7063540b",
   "metadata": {},
   "outputs": [],
   "source": [
    "scales <- c(2, 50, 100, 500, 1000, 5000, 7500, 10000, 15000, 20000)\n",
    "n <- length(scales)\n",
    "time_solve <- numeric(n)\n",
    "time_chol <- numeric(n)\n",
    "X <- matrix(runif(20000^2, 0, 1), nrow = 20000, ncol = 20000)\n",
    "X <- 0.5 * (t(X) + X) - diag(diag(X))\n",
    "X <- crossprod(X)\n",
    "\n",
    "for (i in 1:n) {\n",
    "  N <- scales[i]\n",
    "  M <- X[1:N, 1:N]\n",
    "  \n",
    "  t1 <- Sys.time()\n",
    "  det1 <- det(M)\n",
    "  time_solve[i] <- Sys.time() - t1\n",
    "  \n",
    "  t3 <- Sys.time()\n",
    "  L <- chol(M)\n",
    "  det2 <- prod(diag(L)) ** 2\n",
    "  time_chol[i] <- Sys.time() - t3\n",
    "}"
   ]
  },
  {
   "cell_type": "code",
   "execution_count": 4,
   "id": "8752d92f-2599-4f38-babd-5bc744195c91",
   "metadata": {
    "jupyter": {
     "source_hidden": true
    },
    "tags": [
     "hide_code"
    ]
   },
   "outputs": [
    {
     "data": {
      "text/html": [
       "<table class=\"dataframe\">\n",
       "<caption>A matrix: 9 x 3 of type dbl</caption>\n",
       "<thead>\n",
       "\t<tr><th scope=col>N for NxN sized matrix</th><th scope=col>Original 'det()' Determinant</th><th scope=col>Cholesky Determinant Method</th></tr>\n",
       "</thead>\n",
       "<tbody>\n",
       "\t<tr><td>   50</td><td> 0.001460</td><td>0.000672</td></tr>\n",
       "\t<tr><td>  100</td><td> 0.005022</td><td>0.000138</td></tr>\n",
       "\t<tr><td>  500</td><td> 0.413112</td><td>0.002762</td></tr>\n",
       "\t<tr><td> 1000</td><td> 1.334488</td><td>0.030634</td></tr>\n",
       "\t<tr><td> 5000</td><td> 4.695797</td><td>0.261089</td></tr>\n",
       "\t<tr><td> 7500</td><td> 6.188897</td><td>0.708372</td></tr>\n",
       "\t<tr><td>10000</td><td> 7.033950</td><td>1.471535</td></tr>\n",
       "\t<tr><td>15000</td><td>10.149708</td><td>3.090780</td></tr>\n",
       "\t<tr><td>20000</td><td>14.394160</td><td>6.171631</td></tr>\n",
       "</tbody>\n",
       "</table>\n"
      ],
      "text/latex": [
       "A matrix: 9 x 3 of type dbl\n",
       "\\begin{tabular}{lll}\n",
       " N for NxN sized matrix & Original 'det()' Determinant & Cholesky Determinant Method\\\\\n",
       "\\hline\n",
       "\t    50 &  0.001460 & 0.000672\\\\\n",
       "\t   100 &  0.005022 & 0.000138\\\\\n",
       "\t   500 &  0.413112 & 0.002762\\\\\n",
       "\t  1000 &  1.334488 & 0.030634\\\\\n",
       "\t  5000 &  4.695797 & 0.261089\\\\\n",
       "\t  7500 &  6.188897 & 0.708372\\\\\n",
       "\t 10000 &  7.033950 & 1.471535\\\\\n",
       "\t 15000 & 10.149708 & 3.090780\\\\\n",
       "\t 20000 & 14.394160 & 6.171631\\\\\n",
       "\\end{tabular}\n"
      ],
      "text/markdown": [
       "\n",
       "A matrix: 9 x 3 of type dbl\n",
       "\n",
       "| N for NxN sized matrix | Original 'det()' Determinant | Cholesky Determinant Method |\n",
       "|---|---|---|\n",
       "|    50 |  0.001460 | 0.000672 |\n",
       "|   100 |  0.005022 | 0.000138 |\n",
       "|   500 |  0.413112 | 0.002762 |\n",
       "|  1000 |  1.334488 | 0.030634 |\n",
       "|  5000 |  4.695797 | 0.261089 |\n",
       "|  7500 |  6.188897 | 0.708372 |\n",
       "| 10000 |  7.033950 | 1.471535 |\n",
       "| 15000 | 10.149708 | 3.090780 |\n",
       "| 20000 | 14.394160 | 6.171631 |\n",
       "\n"
      ],
      "text/plain": [
       "      N for NxN sized matrix Original 'det()' Determinant\n",
       " [1,]    50                   0.001460                   \n",
       " [2,]   100                   0.005022                   \n",
       " [3,]   500                   0.413112                   \n",
       " [4,]  1000                   1.334488                   \n",
       " [5,]  5000                   4.695797                   \n",
       " [6,]  7500                   6.188897                   \n",
       " [7,] 10000                   7.033950                   \n",
       " [8,] 15000                  10.149708                   \n",
       " [9,] 20000                  14.394160                   \n",
       "      Cholesky Determinant Method\n",
       " [1,] 0.000672                   \n",
       " [2,] 0.000138                   \n",
       " [3,] 0.002762                   \n",
       " [4,] 0.030634                   \n",
       " [5,] 0.261089                   \n",
       " [6,] 0.708372                   \n",
       " [7,] 1.471535                   \n",
       " [8,] 3.090780                   \n",
       " [9,] 6.171631                   "
      ]
     },
     "metadata": {},
     "output_type": "display_data"
    }
   ],
   "source": [
    "res <- cbind(scales, round(time_solve, 6), round(time_chol, 6))\n",
    "colnames(res) <- c('N for NxN sized matrix', \"Original 'det()' Determinant\", 'Cholesky Determinant Method')\n",
    "res[2:10,]"
   ]
  },
  {
   "cell_type": "markdown",
   "id": "8394afde-fa94-41ca-b992-090cb6f1f346",
   "metadata": {},
   "source": [
    "Note: Run times will vary depending on the machine one uses. The main take away is the same as the Python experiment. Using a cholesky method to find the determinant of a psd matrix is clearly superior in R.\n",
    "    \n",
    "There are other computational methods besides a cholesky decomposition such as QR decomposition or singular value decomposition (SVD) which can be leveraged to ones advantage. Only the cholesky method was chosen to explore due to its general speed advantage and simplicity to implement. It should be noted that a cholesky decomposition is not always optimal and that one should always be aware of the structure and properties of the mathematical objects they are dealing with."
   ]
  },
  {
   "cell_type": "markdown",
   "id": "fc4da3b5-f189-4cc0-9e2f-665c7b070d60",
   "metadata": {},
   "source": [
    "#   \n",
    "#   \n",
    "#   \n",
    "***\n",
    "*** \n",
    "[7] Van Rossum, G. & Drake, F.L., 2009. Python 3 Reference Manual, [[link]](https://www.python.org) <a class=\"anchor\" id=\"il7\"></a>     \n",
    "[9] Virtanen, P. et al., 2020. SciPy 1.0: Fundamental Algorithms for Scientific Computing in Python, [[link]](https://scipy.org/) <a class=\"anchor\" id=\"ref9\"></a>   \n",
    "[10] Hans W. Borchers, 2022, Package 'pracma' (Practical Numerical Math Functions), [[link]](https://CRAN.R-project.org/package=pracma) <a class=\"anchor\" id=\"ref10\"></a>"
   ]
  }
 ],
 "metadata": {
  "kernelspec": {
   "display_name": "Python 3",
   "language": "python",
   "name": "python3"
  },
  "language_info": {
   "codemirror_mode": {
    "name": "ipython",
    "version": 3
   },
   "file_extension": ".py",
   "mimetype": "text/x-python",
   "name": "python",
   "nbconvert_exporter": "python",
   "pygments_lexer": "ipython3",
   "version": "3.7.10"
  }
 },
 "nbformat": 4,
 "nbformat_minor": 5
}
