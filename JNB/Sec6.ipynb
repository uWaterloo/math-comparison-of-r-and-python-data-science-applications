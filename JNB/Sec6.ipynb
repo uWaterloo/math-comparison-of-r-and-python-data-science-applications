{
 "cells": [
  {
   "cell_type": "markdown",
   "id": "100b52d6-e5f7-4ad5-bae7-3d0eb91a3ab5",
   "metadata": {},
   "source": [
    "# 6 - Computing Statistics and Percentiles\n",
    "Computing general statistics and percentiles is a popular way to generate quick inference on a given data set. Some of these popular statistics include mean, median, mode, variance, skewness, kurtosis and central moments. This information can almost always be generated very quickly using tools in both R and Python. Percentiles of interest are usually those that correspond to quartiles, specifically the first and third from which one generate an interquartile range (IQR). This section will cover how to compute these statistics and desired percentiles in both R and python. One will notice the extreme similarity in code between R and Python for these tasks."
   ]
  },
  {
   "cell_type": "code",
   "execution_count": 2,
   "id": "0e1731e9-1be5-41a3-bd37-e5cf1254ec3a",
   "metadata": {
    "jupyter": {
     "source_hidden": true
    },
    "tags": [
     "hide_code"
    ]
   },
   "outputs": [],
   "source": [
    "import numpy as np"
   ]
  },
  {
   "cell_type": "markdown",
   "id": "2ab11f57-6f0f-4d61-a1ac-3bdc42f5c5ec",
   "metadata": {},
   "source": [
    "## 6.1 - Computing Basic Statistics\n",
    "Computing popular statistics for data sets is something both R and Python can handle easily. For a set of data points $X = \\{x_1 \\dots x_n\\},\\ x_i \\in \\mathbb{R}$ one can define:\n",
    "\n",
    "The mean of $X$ as:  \n",
    "<br>\n",
    "$$\\bar{X} = \\frac{1}{n}\\sum_{i=1}^nx_i$$\n",
    "The median of $X$ as:  \n",
    "<br>\n",
    "$$Med(X)= \\begin{cases} X[\\frac{n}{2}] & n\\ even \\\\ (X[\\frac{n-1}{2}] + X[\\frac{n+1}{2}])/2 & n\\ odd\\end{cases}$$\n",
    "The variance of $X$ as:  \n",
    "<br>\n",
    "$$Var(X) = \\sigma^2 = \\frac{1}{n-1}\\sum_{i=1}^n (x_i - \\bar{X})^2$$\n",
    "The standard deviation of $X$ as:  \n",
    "<br>\n",
    "$$sd(X) = \\sqrt{Var(X)} = \\sigma$$\n",
    "The mode as the element in $X$ which occurs most frequently (can be more than one).\n",
    "\n",
    "The kurtosis as:  \n",
    "<br>\n",
    "$$Kurt(X) = n \\cdot \\frac{\\sum_{i=1}^n(x_i - \\bar{X})^4}{(\\sum_{i=1}^n(x_i - \\bar{X})^2)^2}$$\n",
    "The skewness as:\n",
    "<br>\n",
    "$$Skew(X) = n \\cdot \\frac{(\\sum_{i=1}^n(x_i -\\bar{X})^3)^2}{(\\sum_{i=1}^n(x_i -\\bar{X})^2)^3}$$\n",
    "The $k^{th}$ central moment as:  \n",
    "<br>\n",
    "$$\\frac{1}{n} \\cdot \\sum_{i=1}^n(x_i - \\bar{X})^k$$   \n",
    "   \n",
    "It should be noted that these statistics can be computed across a given dimension for data of dimension higher than 1. For example if given a data matrix, these statistics can be computed across rows or columns."
   ]
  },
  {
   "cell_type": "markdown",
   "id": "c8ebe50b-2587-44ea-853b-05f7976fdef6",
   "metadata": {},
   "source": [
    "### 6.1.1 - Statistics in Python \n",
    "The NumPy library has built-in functions for the major statistical properties such as mean, median, variance and standard deviation. One can compute the desired statistics using the NumPy functions; `mean()`, `median()`, `var()` and `std()`."
   ]
  },
  {
   "cell_type": "code",
   "execution_count": 11,
   "id": "09e0db8d-cb3f-4485-a856-d1e2243eec72",
   "metadata": {},
   "outputs": [
    {
     "name": "stdout",
     "output_type": "stream",
     "text": [
      "Data: [1 2 3 4 2]\n",
      "Mean: 2.4\n",
      "Median: 2.0\n",
      "Variance: 1.04\n",
      "Standard Deviation: 1.0198\n"
     ]
    }
   ],
   "source": [
    "data = np.array([1,2,3,4,2])\n",
    "\n",
    "# Compute using NumPy \n",
    "mean = np.mean(data)\n",
    "median = np.median(data)\n",
    "var = np.var(data)\n",
    "std = np.std(data)\n",
    "\n",
    "# Display results:\n",
    "print(\"Data:\", data)\n",
    "print('Mean:', mean)\n",
    "print('Median:', median)\n",
    "print('Variance:', var)\n",
    "print('Standard Deviation:', round(std, 4))"
   ]
  },
  {
   "cell_type": "markdown",
   "id": "bce2aa1f-d77d-44f2-b9f5-ab0861ea37d2",
   "metadata": {},
   "source": [
    "The SciPy 'stats' library is needed for more detailed properties such as mode, kurtosis (Fisher or Pearson), skewness and $n^{th}$ moments. As per the SciPy stats documentation page [[9]](#ref9) \"This module contains a large number of probability distributions, summary and frequency statistics, correlation functions and statistical tests, masked statistics, kernel density estimation, quasi-Monte Carlo functionality, and more.\" The SciPy stats library is imported using `import scipy.stats` which is the same import call used throughout this document."
   ]
  },
  {
   "cell_type": "code",
   "execution_count": 3,
   "id": "92b33067-3387-4635-b213-259e5b9badf3",
   "metadata": {},
   "outputs": [],
   "source": [
    "import scipy.stats as stats # statistics tools"
   ]
  },
  {
   "cell_type": "markdown",
   "id": "9d9d28c5-45fd-46fe-9d37-99bdf15bde08",
   "metadata": {},
   "source": [
    "One can computed desired statistics using SciPy stats functions `mode()`, `kurtosis()`, `skew()` and `moment()`."
   ]
  },
  {
   "cell_type": "code",
   "execution_count": 12,
   "id": "f1fab42a-939d-4d97-bc89-b0004cb4250d",
   "metadata": {},
   "outputs": [
    {
     "name": "stdout",
     "output_type": "stream",
     "text": [
      "Data: [1 2 3 4 2]\n",
      "Mode: 2\n",
      "Pearson Kurtosis: 1.9556\n",
      "Skewness: 0.2715\n",
      "3rd Moment: 0.288\n"
     ]
    }
   ],
   "source": [
    "# Compute using Scipy\n",
    "mode = stats.mode(data)[0][0]\n",
    "kurt_pear = stats.kurtosis(data, fisher=False)\n",
    "skew = stats.skew(data)\n",
    "moment3 = stats.moment(data, moment=3)\n",
    "\n",
    "# Display results:\n",
    "print(\"Data:\", data)\n",
    "print('Mode:', mode)\n",
    "print('Pearson Kurtosis:', round(kurt_pear, 4))\n",
    "print('Skewness:', round(skew, 4))\n",
    "print('3rd Moment:', round(moment3, 4))"
   ]
  },
  {
   "cell_type": "markdown",
   "id": "306eac01-3242-4a80-8e55-6362a62e4094",
   "metadata": {},
   "source": [
    "As perviously stated, these functions are built so that they can be computed across any array axis, not just for one dimensional vector arrays."
   ]
  },
  {
   "cell_type": "code",
   "execution_count": 5,
   "id": "45a2ff73-8c6f-464e-8298-635f15f2207b",
   "metadata": {},
   "outputs": [
    {
     "data": {
      "text/plain": [
       "array([[1, 2, 3, 4, 2],\n",
       "       [1, 2, 3, 4, 2]])"
      ]
     },
     "execution_count": 5,
     "metadata": {},
     "output_type": "execute_result"
    }
   ],
   "source": [
    "data = np.array([[1,2,3,4,2], [1,2,3,4,2]])\n",
    "data"
   ]
  },
  {
   "cell_type": "code",
   "execution_count": 6,
   "id": "7bd8e5b3-7a11-4494-8c2f-990967c584b5",
   "metadata": {},
   "outputs": [
    {
     "data": {
      "text/plain": [
       "(array([2.4, 2.4]), array([0.27154542, 0.27154542]))"
      ]
     },
     "execution_count": 6,
     "metadata": {},
     "output_type": "execute_result"
    }
   ],
   "source": [
    "mean2 = np.mean(data, axis = 1)\n",
    "skew2 = stats.skew(data, axis = 1)\n",
    "mean2, skew2"
   ]
  },
  {
   "cell_type": "markdown",
   "id": "53854e83-326e-4587-94dd-ac7fe58c7d6f",
   "metadata": {},
   "source": [
    "### 6.1.2 - Computing Statistics in R\n",
    "R was built for statistical analysis and hence has many built-in functions to compute popular statistics, these include `mean()`, `median()`, `var()` and `std()`. Note that R does not have a built-in 'mode' function but the calculation can be done fairly easily using the call `names(sort(table(data), TRUE))[[1]]` for the given data."
   ]
  },
  {
   "cell_type": "code",
   "execution_count": 26,
   "id": "ba150b5c-7678-4bc2-8c2f-0aef783a8691",
   "metadata": {},
   "outputs": [
    {
     "name": "stdout",
     "output_type": "stream",
     "text": [
      "[1] \"Data:\"\n",
      "[1] 1 2 3 4 2\n",
      "[1] \"Mean: 2.4\"\n",
      "[1] \"Median: 2\"\n",
      "[1] \"Variance: 1.3\"\n",
      "[1] \"Standard Deviation: 1.1402\"\n",
      "[1] \"Mode: 2\"\n"
     ]
    }
   ],
   "source": [
    "data <- c(1,2,3,4,2)\n",
    "\n",
    "# Compute using built-in R functions\n",
    "mean <- mean(data)\n",
    "median <- median(data)\n",
    "var <- var(data)\n",
    "std <- sd(data)\n",
    "\n",
    "# Manual computation (no built-in functions)\n",
    "mode <- names(sort(table(data), TRUE))[[1]]\n",
    "\n",
    "# Display results:\n",
    "print('Data:')\n",
    "print(data)\n",
    "print(paste0('Mean: ', mean))\n",
    "print(paste0('Median: ', median))\n",
    "print(paste0('Variance: ', var))\n",
    "print(paste0('Standard Deviation: ', round(std, 4)))\n",
    "print(paste0('Mode: ', mode))"
   ]
  },
  {
   "cell_type": "markdown",
   "id": "98cf63c1-0575-4e7d-8a61-30eb55554368",
   "metadata": {},
   "source": [
    "Notice results are identical to those produced in Python. In order to compute more complex statistics such as kurtosis, skewness and moments the package 'moments' is required."
   ]
  },
  {
   "cell_type": "markdown",
   "id": "d24fda64-ac0c-4cab-8617-6a9c85722f88",
   "metadata": {},
   "source": [
    "### 6.1.3 - R moments Package\n",
    "As per the moments documentation page [[13] Moments, Cumulants, Skewness, Kurtosis and Related Tests](#ref13), moments can be described as \"Functions to calculate: moments, Pearson's kurtosis, Geary's kurtosis and skewness; tests related to them (Anscombe-Glynn, D'Agostino, Bonett-Seier).\" We will use the package to compute more complex statistics for which there is no built-in R function. The moments package can be installed in R or R Studio with the command `install.packages('moments')`. Once the package is installed it can be loaded/imported in with the command `library(moments)` after which all the package functions will be available for use. It should be noted that moments version 0.14 is being used."
   ]
  },
  {
   "cell_type": "code",
   "execution_count": 7,
   "id": "15b5a7dc-633d-4e63-95f8-0fdb3d97eed0",
   "metadata": {},
   "outputs": [
    {
     "data": {
      "text/plain": [
       "[1] ‘0.14’"
      ]
     },
     "metadata": {},
     "output_type": "display_data"
    }
   ],
   "source": [
    "library(moments)\n",
    "packageVersion(\"moments\")"
   ]
  },
  {
   "cell_type": "markdown",
   "id": "f324de74-1fba-43ef-8ad3-11331ceb8220",
   "metadata": {},
   "source": [
    "Below the moments functions `kurtosis()`, `skewness()` and `moment()` are used to compute the desired statistics."
   ]
  },
  {
   "cell_type": "code",
   "execution_count": 27,
   "id": "79fa58fc-eb5e-4100-8cb5-97032989f033",
   "metadata": {},
   "outputs": [
    {
     "name": "stdout",
     "output_type": "stream",
     "text": [
      "[1] \"Data:\"\n",
      "[1] 1 2 3 4 2\n",
      "[1] \"Pearson Kurtosis: 1.9556\"\n",
      "[1] \"Skewness: 0.2715\"\n",
      "[1] \"3rd Moment: 0.288\"\n"
     ]
    }
   ],
   "source": [
    "# Compute using \"moments\" package\n",
    "kurt_pear <- kurtosis(data)\n",
    "skew <- skewness(data)\n",
    "moment3 <- moment(data, order = 3, central = TRUE)\n",
    "\n",
    "# Display results:\n",
    "print('Data:')\n",
    "print(data)\n",
    "print(paste0('Pearson Kurtosis: ', round(kurt_pear, 4)))\n",
    "print(paste0('Skewness: ', round(skew, 4)))\n",
    "print(paste0('3rd Moment: ', round(moment3, 4)))"
   ]
  },
  {
   "cell_type": "markdown",
   "id": "013cdf13-a3a7-4f89-acfd-ddc23fb3e883",
   "metadata": {},
   "source": [
    "Notice results are identical to those produced in Python."
   ]
  },
  {
   "cell_type": "markdown",
   "id": "71a49f7b-c2c1-4341-ac8a-54b00b845735",
   "metadata": {},
   "source": [
    "## 6.2 - Computing Percentiles\n",
    "Other common measures of location are Quartiles and Percentiles. It should be noted that Quartiles are just special percentiles. The first quartile, $Q_1$, is the same as the $25^{th}$ percentile. The third quartile, $Q_3$ is the same as the $75^{th}$ percentile. The median or second quartile, $Q_2$ is the same as the $50^{th}$ percentile. A $k^{th}$ percentile can be defined as a score below which a given percentage $k$ of scores in its frequency distribution falls."
   ]
  },
  {
   "cell_type": "markdown",
   "id": "f00cb4b1-a047-4998-b9e1-7a63d033d37f",
   "metadata": {},
   "source": [
    "### 6.2.1 - Percentiles in Python \n",
    "NumPy provides the function `percentile()` for calculating percentiles. The SciPy stats function base also provides a function for calculating the inter quartile range `iqr()` which is the difference between the third and first quartile."
   ]
  },
  {
   "cell_type": "code",
   "execution_count": 7,
   "id": "196a0781-0a91-4a1f-8509-840f8f262bb6",
   "metadata": {},
   "outputs": [
    {
     "data": {
      "text/plain": [
       "array([ 0,  1,  2,  3,  4,  5,  6,  7,  8,  9, 10])"
      ]
     },
     "execution_count": 7,
     "metadata": {},
     "output_type": "execute_result"
    }
   ],
   "source": [
    "data = np.arange(11)\n",
    "data"
   ]
  },
  {
   "cell_type": "code",
   "execution_count": 8,
   "id": "27a4ef51-a401-4846-a2d0-eaea9a323492",
   "metadata": {},
   "outputs": [
    {
     "data": {
      "text/plain": [
       "(2.5, 5.0, 7.5)"
      ]
     },
     "execution_count": 8,
     "metadata": {},
     "output_type": "execute_result"
    }
   ],
   "source": [
    "# quartiles\n",
    "Q50 = np.percentile(data, 50) # 2nd quartile\n",
    "Q25 = np.percentile(data, 25) # 1st quartile\n",
    "Q75 = np.percentile(data, 75) # 3rd quartile\n",
    "Q25, Q50, Q75"
   ]
  },
  {
   "cell_type": "code",
   "execution_count": 9,
   "id": "39c90b38-7087-42ef-9413-aa9208cfbd72",
   "metadata": {},
   "outputs": [
    {
     "data": {
      "text/plain": [
       "5.0"
      ]
     },
     "execution_count": 9,
     "metadata": {},
     "output_type": "execute_result"
    }
   ],
   "source": [
    "IQR = stats.iqr(data)\n",
    "IQR"
   ]
  },
  {
   "cell_type": "code",
   "execution_count": 10,
   "id": "43398906-2014-4358-bd52-f07f8297827f",
   "metadata": {},
   "outputs": [
    {
     "data": {
      "text/plain": [
       "(3.0, 6.0)"
      ]
     },
     "execution_count": 10,
     "metadata": {},
     "output_type": "execute_result"
    }
   ],
   "source": [
    "# percentiles\n",
    "P30 = np.percentile(data, 30) # 30th percentile\n",
    "P60 = np.percentile(data, 60) # 60th percentile\n",
    "P30, P60"
   ]
  },
  {
   "cell_type": "markdown",
   "id": "353b653f-b951-4e87-aced-4d668945ae60",
   "metadata": {},
   "source": [
    "### 6.2.2 - Percentiles in R \n",
    "R provides the function `quantile()` for calculating percentiles and also an `IQR()` function for calculating the interquartile range. These are built in functions and do not require external packages."
   ]
  },
  {
   "cell_type": "code",
   "execution_count": 29,
   "id": "0eb88bab-ce68-4b3f-99eb-af39f15fa65f",
   "metadata": {},
   "outputs": [
    {
     "name": "stdout",
     "output_type": "stream",
     "text": [
      " [1]  0  1  2  3  4  5  6  7  8  9 10\n"
     ]
    }
   ],
   "source": [
    "data <- c(0:10)\n",
    "print(data)"
   ]
  },
  {
   "cell_type": "code",
   "execution_count": 30,
   "id": "1db459f0-e1b7-4ce1-8657-934234989f64",
   "metadata": {},
   "outputs": [
    {
     "name": "stdout",
     "output_type": "stream",
     "text": [
      "25% 50% 75% \n",
      "2.5 5.0 7.5 \n"
     ]
    }
   ],
   "source": [
    "# quartiles\n",
    "Q <- quantile(data, c(0.25, 0.5, 0.75))\n",
    "print(Q)"
   ]
  },
  {
   "cell_type": "code",
   "execution_count": 31,
   "id": "84963845-30c0-43ba-850b-1331a47eb445",
   "metadata": {},
   "outputs": [
    {
     "data": {
      "text/html": [
       "5"
      ],
      "text/latex": [
       "5"
      ],
      "text/markdown": [
       "5"
      ],
      "text/plain": [
       "[1] 5"
      ]
     },
     "metadata": {},
     "output_type": "display_data"
    }
   ],
   "source": [
    "IQR <- IQR(data)\n",
    "IQR"
   ]
  },
  {
   "cell_type": "code",
   "execution_count": 33,
   "id": "1382eafb-b2e1-4d45-9ba3-f733822f7716",
   "metadata": {},
   "outputs": [
    {
     "name": "stdout",
     "output_type": "stream",
     "text": [
      "30% 60% \n",
      "  3   6 \n"
     ]
    }
   ],
   "source": [
    "# percentiles\n",
    "P <- quantile(data, c(0.3, 0.6))\n",
    "print(P)"
   ]
  },
  {
   "cell_type": "markdown",
   "id": "bf5fd48e-e1a4-49fe-8543-da049e04bc8b",
   "metadata": {},
   "source": [
    "Notice results are identical to those produced in Python."
   ]
  },
  {
   "cell_type": "markdown",
   "id": "00012f2c-e651-409d-ae1d-c5ae23a4537b",
   "metadata": {},
   "source": [
    "#   \n",
    "#   \n",
    "#   \n",
    "***\n",
    "***\n",
    "[9] Virtanen, P. et al., 2020. SciPy 1.0: Fundamental Algorithms for Scientific Computing in Python, [[link]](https://scipy.org/) <a class=\"anchor\" id=\"ref9\"></a>   \n",
    "[13] Lukasz Komsta, Frederick Novomestky, 2022-05-02. Moments, Cumulants, Skewness, Kurtosis and Related Tests, [[link]](https://CRAN.R-project.org/package=moments) <a class=\"anchor\" id=\"ref13\"></a>"
   ]
  }
 ],
 "metadata": {
  "kernelspec": {
   "display_name": "Python 3",
   "language": "python",
   "name": "python3"
  },
  "language_info": {
   "codemirror_mode": {
    "name": "ipython",
    "version": 3
   },
   "file_extension": ".py",
   "mimetype": "text/x-python",
   "name": "python",
   "nbconvert_exporter": "python",
   "pygments_lexer": "ipython3",
   "version": "3.7.10"
  }
 },
 "nbformat": 4,
 "nbformat_minor": 5
}
