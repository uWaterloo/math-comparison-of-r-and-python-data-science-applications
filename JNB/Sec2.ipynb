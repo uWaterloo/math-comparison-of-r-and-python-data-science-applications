{
 "cells": [
  {
   "cell_type": "markdown",
   "id": "260e581a-8321-47c5-ae85-5887248c7868",
   "metadata": {},
   "source": [
    "# 2 - Mathematical Objects\n",
    "Mathematics and mathematical objects provide a foundation on which most of data science is built on top of. These mathematical objects include scalar values, 1-dimensional vectors, 2-dimensional matrices and even higher dimensional data structures. This section will explore these objects and how one can initialize, create and manipulate them using R or Python. This can be handled in R with built-in functions and array creation methods but in Python we must introduce the NumPy module."
   ]
  },
  {
   "cell_type": "markdown",
   "id": "812db646-39e5-45d8-b0e7-0216e093d649",
   "metadata": {},
   "source": [
    "## 2.1 - Python NumPy Module\n",
    "As per the NumPy documentation page [[8] Array Programming with NumPy](#ref8), \"NumPy is a fundamental package for scientific computing in Python. It is a Python library that provides a multidimensional array object, various derived objects (such as masked arrays and matrices), and an assortment of routines for fast operations on arrays, including mathematical, logical, shape manipulation, sorting, selecting, I/O, discrete Fourier transforms, basic linear algebra, basic statistical operations, random simulation and much more.\"      \n",
    "   \n",
    "The NumPy documentation page [[8]](#ref8) includes a section with instructions on downloading and installing the NumPy module. For example if you are using `pip` NumPy can be installed with the call `pip install numpy`. Once installed it can be loaded/imported with the `import` call as done below. It should be noted that version 1.19.1 of NumPy is being used."
   ]
  },
  {
   "cell_type": "code",
   "execution_count": 1,
   "id": "bb433cab-6c87-4b35-aba9-0e741d51e873",
   "metadata": {},
   "outputs": [
    {
     "name": "stdout",
     "output_type": "stream",
     "text": [
      "1.19.1\n"
     ]
    }
   ],
   "source": [
    "import numpy as np # NumPy\n",
    "print(np.__version__)"
   ]
  },
  {
   "cell_type": "markdown",
   "id": "2ab31cb7-8e41-4ddc-9cd5-e113a4cd3faa",
   "metadata": {},
   "source": [
    "GOOD TIP: Import the NumPy module with a shorter name such as `np` (this was done above). Each time a NumPy function is used its name must be called first. For example to use the NumPy `random()` function one must make the call `np.random()`. If NumPy had been imported under a different name such as `numpy_module` then the call would have been `numpy_module.random()`. Using shorter and clear module names can save you some time coding."
   ]
  },
  {
   "cell_type": "markdown",
   "id": "96996485-a7ef-4a3f-bce0-223ccb813f0a",
   "metadata": {
    "tags": []
   },
   "source": [
    "## 2.2 - Vectors (1D Arrays)\n",
    "An important distinction between numeric arrays are those which use floating point values (real numbers) and those which use integers values. There is usually a preference in using one over the other for most applications, for example integer arrays can be used for indexing.\n",
    "\n",
    "Ex. One dimensional numeric arrays of the form:    \n",
    "<br>\n",
    "$$x_i \\in \\mathbb{R},\\ i = 1,...,n,\\ \\vec{x} = \\begin{bmatrix} x_1 \\\\ x_2 \\\\ \\vdots \\\\ x_n \\end{bmatrix}  \\in \\mathbb{R}^n$$"
   ]
  },
  {
   "cell_type": "markdown",
   "id": "e9a7c1a6-1acd-481a-afa1-2dc2bda71052",
   "metadata": {},
   "source": [
    "### 2.2.1 - Numpy Vectors\n",
    "According to the NumPy documentation [[8]](#ref8), there are six general mechanisms for NumPy creating arrays:   \n",
    "1) Conversion from other Python structures (i.e. lists and tuples)   \n",
    "2) Intrinsic NumPy array creation functions (e.g. arange, ones, zeros, etc.)   \n",
    "3) Replicating, joining, or mutating existing arrays   \n",
    "4) Reading arrays from disk, either from standard or custom formats   \n",
    "5) Creating arrays from raw bytes through the use of strings or buffers   \n",
    "6) Use of special library functions (e.g., random) "
   ]
  },
  {
   "cell_type": "code",
   "execution_count": 2,
   "id": "d4f47d68-8335-4667-ba27-fc330520ec48",
   "metadata": {},
   "outputs": [
    {
     "data": {
      "text/plain": [
       "array([0, 1, 2])"
      ]
     },
     "execution_count": 2,
     "metadata": {},
     "output_type": "execute_result"
    }
   ],
   "source": [
    "# arange(n) gives an array of size n with elements from 0 to n-1\n",
    "X = np.arange(3)\n",
    "X"
   ]
  },
  {
   "cell_type": "markdown",
   "id": "7f4dbfdf-e868-4cbb-9a1f-232e4f39f3a9",
   "metadata": {},
   "source": [
    "Note that the NumPy `arange()` function returns an integer array where as the `ones()` and `zeros()` functions return floating point arrays by default."
   ]
  },
  {
   "cell_type": "code",
   "execution_count": 3,
   "id": "5631552d-6354-4d40-bbcc-320e6ff677d8",
   "metadata": {},
   "outputs": [
    {
     "data": {
      "text/plain": [
       "array([[1., 1., 1.]])"
      ]
     },
     "execution_count": 3,
     "metadata": {},
     "output_type": "execute_result"
    }
   ],
   "source": [
    "# ones(n) gives array of size n with all elements equal to 1\n",
    "X = np.ones((1,3)) # 1 row 3 columns \n",
    "X"
   ]
  },
  {
   "cell_type": "code",
   "execution_count": 4,
   "id": "761127fb-b99d-416b-bf42-dd63c69f4cd5",
   "metadata": {},
   "outputs": [
    {
     "data": {
      "text/plain": [
       "array([[0.],\n",
       "       [0.],\n",
       "       [0.]])"
      ]
     },
     "execution_count": 4,
     "metadata": {},
     "output_type": "execute_result"
    }
   ],
   "source": [
    "# zeros(n) gives array of size n with all elements equal to 0\n",
    "X = np.zeros((3,1)) # 3 rows 1 column\n",
    "X"
   ]
  },
  {
   "cell_type": "markdown",
   "id": "2bd7acb6-4b97-47c5-8794-334abb07186a",
   "metadata": {},
   "source": [
    "When manually creating a NumPy array the function `np.array()` is used, if any one of the values are set to floating point then the entire array will be a floating point array (all values change)."
   ]
  },
  {
   "cell_type": "code",
   "execution_count": 5,
   "id": "d549df04-298b-4907-8d24-772c6d24a84a",
   "metadata": {},
   "outputs": [
    {
     "data": {
      "text/plain": [
       "array([0., 0., 0.])"
      ]
     },
     "execution_count": 5,
     "metadata": {},
     "output_type": "execute_result"
    }
   ],
   "source": [
    "# array() allows for manual array creation\n",
    "X = np.array([0,0,0.]) # \"0.\" enforces floating point\n",
    "X"
   ]
  },
  {
   "cell_type": "markdown",
   "id": "9e94d0dd-08df-472f-a596-72f0bd5de11b",
   "metadata": {},
   "source": [
    "### 2.2.2 - Indexing NumPy Vectors\n",
    "NumPy arrays are 0-indexed and indexing makes use of square brackets. The indexing of [0] will give the first element in the array. Placing an array inside the indexing bracket allows one to index any number of specific elements."
   ]
  },
  {
   "cell_type": "code",
   "execution_count": 6,
   "id": "5185a8c6-a724-45cd-8560-d0060b2b3ead",
   "metadata": {},
   "outputs": [
    {
     "data": {
      "text/plain": [
       "array([1, 2, 3, 4])"
      ]
     },
     "execution_count": 6,
     "metadata": {},
     "output_type": "execute_result"
    }
   ],
   "source": [
    "X = np.array([1,2,3,4])\n",
    "X"
   ]
  },
  {
   "cell_type": "code",
   "execution_count": 7,
   "id": "cf1abeb3-d17e-4447-a397-44ea22b60d23",
   "metadata": {},
   "outputs": [
    {
     "data": {
      "text/plain": [
       "1"
      ]
     },
     "execution_count": 7,
     "metadata": {},
     "output_type": "execute_result"
    }
   ],
   "source": [
    "X[0] # first element"
   ]
  },
  {
   "cell_type": "code",
   "execution_count": 8,
   "id": "4a0493f4-18ec-4b7d-8a52-69622e19c500",
   "metadata": {},
   "outputs": [
    {
     "data": {
      "text/plain": [
       "4"
      ]
     },
     "execution_count": 8,
     "metadata": {},
     "output_type": "execute_result"
    }
   ],
   "source": [
    "X[3] # last element"
   ]
  },
  {
   "cell_type": "code",
   "execution_count": 9,
   "id": "9e809929-6ef1-4668-bb0e-b3e823bb7539",
   "metadata": {},
   "outputs": [
    {
     "data": {
      "text/plain": [
       "array([1, 2, 3])"
      ]
     },
     "execution_count": 9,
     "metadata": {},
     "output_type": "execute_result"
    }
   ],
   "source": [
    "X[0:3] # use colon sytax n:m to get elements from postion n to m-1"
   ]
  },
  {
   "cell_type": "code",
   "execution_count": 10,
   "id": "cb3db030-bb09-4fa6-a7e1-04ccfad83ff8",
   "metadata": {},
   "outputs": [
    {
     "data": {
      "text/plain": [
       "array([1, 2, 3, 4, 1, 1, 2, 2])"
      ]
     },
     "execution_count": 10,
     "metadata": {},
     "output_type": "execute_result"
    }
   ],
   "source": [
    "X[[0,1,2,3,0,0,1,1]] # insert array to get any elements"
   ]
  },
  {
   "cell_type": "markdown",
   "id": "bf4c45b9-47e1-42d9-90d8-e2eba26e39bb",
   "metadata": {},
   "source": [
    "### 2.2.3 - R Vectors\n",
    "A vector is the most common and basic data structure in R. Technically, vectors can be one of two types: atomic vectors and lists. It is a collection of elements that are most commonly composed of characters, logical, integers or numeric values. Vectors can be initialized in R using various functions or manual options such as colon syntax `:`, `rep()` function, `numeric()` function and manual `c()` function."
   ]
  },
  {
   "cell_type": "code",
   "execution_count": 37,
   "id": "fdf437b7-c8b3-4715-aa74-aca2fedf3dc2",
   "metadata": {},
   "outputs": [
    {
     "name": "stdout",
     "output_type": "stream",
     "text": [
      "[1] 0 1 2\n"
     ]
    }
   ],
   "source": [
    "# colon sytax \"n:m\" gives an array of size (m-n) with elements from n to m\n",
    "X <- 0:2\n",
    "print(X)"
   ]
  },
  {
   "cell_type": "code",
   "execution_count": 38,
   "id": "cbba8b66-562d-4a65-9901-b7a2a4c465ec",
   "metadata": {},
   "outputs": [
    {
     "name": "stdout",
     "output_type": "stream",
     "text": [
      "[1] 1 1 1\n"
     ]
    }
   ],
   "source": [
    "# rep(x, n) gives an array of the element x repeated n times\n",
    "X <- rep(1,3)\n",
    "print(X)"
   ]
  },
  {
   "cell_type": "code",
   "execution_count": 39,
   "id": "9c1bcf55-38a3-42ab-9f85-46e3197256a6",
   "metadata": {},
   "outputs": [
    {
     "name": "stdout",
     "output_type": "stream",
     "text": [
      "[1] 0 0 0\n"
     ]
    }
   ],
   "source": [
    "# numeric(n) can intialize array of size n with all elements equal to 0\n",
    "X <- numeric(3)\n",
    "print(X)"
   ]
  },
  {
   "cell_type": "code",
   "execution_count": 40,
   "id": "ee2f66c1-6d83-4baf-b3e1-15a815f99555",
   "metadata": {},
   "outputs": [
    {
     "name": "stdout",
     "output_type": "stream",
     "text": [
      "[1] 1 2 3\n"
     ]
    }
   ],
   "source": [
    "# c() allows for manual array creation\n",
    "X <- c(1,2,3)\n",
    "print(X)"
   ]
  },
  {
   "cell_type": "markdown",
   "id": "24124595-e3f2-448b-8128-c7680df9cf1d",
   "metadata": {},
   "source": [
    "### 2.2.4 - Indexing R Vectors\n",
    "Vectors in R are not 0-indexed and indexing makes use of square brackets. The indexing of [1] will give the first element in the vector. As with Python, placing a vector inside the indexing bracket allows one to index any number of specific elements."
   ]
  },
  {
   "cell_type": "code",
   "execution_count": 34,
   "id": "291287d4-2414-4c89-bf98-3d51d8517c83",
   "metadata": {},
   "outputs": [
    {
     "name": "stdout",
     "output_type": "stream",
     "text": [
      "[1] 1 2 3 4\n"
     ]
    }
   ],
   "source": [
    "X <- c(1,2,3,4)\n",
    "print(X)"
   ]
  },
  {
   "cell_type": "code",
   "execution_count": 7,
   "id": "8b67c4a8-91b5-4d03-9c57-342c72f2141f",
   "metadata": {},
   "outputs": [
    {
     "data": {
      "text/html": [
       "1"
      ],
      "text/latex": [
       "1"
      ],
      "text/markdown": [
       "1"
      ],
      "text/plain": [
       "[1] 1"
      ]
     },
     "metadata": {},
     "output_type": "display_data"
    }
   ],
   "source": [
    "X[1] # first element"
   ]
  },
  {
   "cell_type": "code",
   "execution_count": 8,
   "id": "420381d8-d4af-4aa5-bdd4-160d4abe4287",
   "metadata": {},
   "outputs": [
    {
     "data": {
      "text/html": [
       "4"
      ],
      "text/latex": [
       "4"
      ],
      "text/markdown": [
       "4"
      ],
      "text/plain": [
       "[1] 4"
      ]
     },
     "metadata": {},
     "output_type": "display_data"
    }
   ],
   "source": [
    "X[4] # last element"
   ]
  },
  {
   "cell_type": "code",
   "execution_count": 35,
   "id": "f23df9bd-ac19-4a64-9727-695f4711a9d5",
   "metadata": {},
   "outputs": [
    {
     "name": "stdout",
     "output_type": "stream",
     "text": [
      "[1] 1 2 3\n"
     ]
    }
   ],
   "source": [
    "print(X[1:3]) # use colon sytax n:m to get elements from postion n to m"
   ]
  },
  {
   "cell_type": "code",
   "execution_count": 36,
   "id": "d43a9f80-9777-4688-84fa-9b5527e48c3c",
   "metadata": {},
   "outputs": [
    {
     "name": "stdout",
     "output_type": "stream",
     "text": [
      "[1] 1 2 3 4 1 1 2 2\n"
     ]
    }
   ],
   "source": [
    "print(X[c(1,2,3,4,1,1,2,2)]) # insert array to get any elements"
   ]
  },
  {
   "cell_type": "markdown",
   "id": "80114a2a-8a71-4a74-9545-6ac037da3e21",
   "metadata": {},
   "source": [
    "## 2.3 - Matrices (2D Arrays)\n",
    "Numeric matrices with floating point values are exclusively used in examples going forward:  \n",
    "<br>\n",
    "$$x_{ij} \\in \\mathbb{R},\\ i = 1,...,n,\\ j = 1,...,m,\\ X = \\begin{bmatrix} x_{11} & \\dots & x_{1m} \\\\ \\vdots & \\ddots & \\vdots \\\\ x_{n1} & \\dots & x_{nm}\\end{bmatrix}  \\in \\mathbb{R}^{n \\times m}$$"
   ]
  },
  {
   "cell_type": "markdown",
   "id": "ab5a0024-7e06-4dab-a460-abb139223b08",
   "metadata": {},
   "source": [
    "### 2.3.1 - NumPy Matrices\n",
    "In Python, a matrix is a two-dimensional data structure arranged into rows and columns. Using NumPy, a matrix can be initialized the exact same way as the vectors but by using nested lists. It should be noted that NumPy includes a Matrix data object (`np.matrix`) but using the array object (`np.array()`) is all that is needed. The same six general mechanisms for NumPy creating arrays (outlined above) can be applied to creating matrices or 2D arrays.   \n",
    "\n",
    "Note that NumPy includes an identity matrix funcion `np.eye(n)` which can creates an $n \\times n$ idenity matirx."
   ]
  },
  {
   "cell_type": "code",
   "execution_count": 11,
   "id": "566a42a5-f63f-42b1-b00b-e148b3d9e0da",
   "metadata": {},
   "outputs": [
    {
     "data": {
      "text/plain": [
       "array([[1., 0.],\n",
       "       [0., 1.]])"
      ]
     },
     "execution_count": 11,
     "metadata": {},
     "output_type": "execute_result"
    }
   ],
   "source": [
    "M = np.eye(2) # idenity matrix\n",
    "M"
   ]
  },
  {
   "cell_type": "code",
   "execution_count": 12,
   "id": "82746094-98e2-4529-8610-61e8088fa4b7",
   "metadata": {},
   "outputs": [
    {
     "data": {
      "text/plain": [
       "array([[1., 2.],\n",
       "       [3., 4.]])"
      ]
     },
     "execution_count": 12,
     "metadata": {},
     "output_type": "execute_result"
    }
   ],
   "source": [
    "M = np.array([[1.,2],[3,4]]) # manual matrix creation\n",
    "M"
   ]
  },
  {
   "cell_type": "markdown",
   "id": "fb645e58-d46f-481a-924a-f074d5ced574",
   "metadata": {},
   "source": [
    "Matrices can be created with NumPy using the array operation or by changing the dimensional structure of a NumPy array with the `reshape()` function. It should be noted that Python fills the matrix in order of rows first, which is opposite of R."
   ]
  },
  {
   "cell_type": "code",
   "execution_count": 13,
   "id": "d00befe9-81d0-4c05-88bc-5bfd6462b301",
   "metadata": {},
   "outputs": [
    {
     "data": {
      "text/plain": [
       "array([[1., 2.],\n",
       "       [3., 4.]])"
      ]
     },
     "execution_count": 13,
     "metadata": {},
     "output_type": "execute_result"
    }
   ],
   "source": [
    "m = np.array([1.,2,3,4]) # matrix from a vector\n",
    "M = m.reshape(2,2)\n",
    "M"
   ]
  },
  {
   "cell_type": "markdown",
   "id": "8d3e2c60-a237-49bc-bdee-22124cea62bf",
   "metadata": {},
   "source": [
    "### 2.3.2 - Indexing NumPy Matrices\n",
    "NumPy matrix arrays are indexed with the same tools as that for vector arrays but one must now consider the additional dimension (across rows and columns)."
   ]
  },
  {
   "cell_type": "code",
   "execution_count": 14,
   "id": "990743c1-b1cc-43f7-9b11-e4de73601e41",
   "metadata": {},
   "outputs": [
    {
     "data": {
      "text/plain": [
       "array([[1, 2],\n",
       "       [3, 4]])"
      ]
     },
     "execution_count": 14,
     "metadata": {},
     "output_type": "execute_result"
    }
   ],
   "source": [
    "M = np.array([[1,2],[3,4]])\n",
    "M"
   ]
  },
  {
   "cell_type": "code",
   "execution_count": 15,
   "id": "94dc8d40-6ef2-4027-8201-ddd08986ff40",
   "metadata": {},
   "outputs": [
    {
     "data": {
      "text/plain": [
       "1"
      ]
     },
     "execution_count": 15,
     "metadata": {},
     "output_type": "execute_result"
    }
   ],
   "source": [
    "M[0,0] # first row, first column (top left)"
   ]
  },
  {
   "cell_type": "code",
   "execution_count": 16,
   "id": "d7ae8a06-13d9-492b-990c-cdafa468ce65",
   "metadata": {},
   "outputs": [
    {
     "data": {
      "text/plain": [
       "4"
      ]
     },
     "execution_count": 16,
     "metadata": {},
     "output_type": "execute_result"
    }
   ],
   "source": [
    "M[1,1] # last row, last colummn (bottom right)"
   ]
  },
  {
   "cell_type": "code",
   "execution_count": 17,
   "id": "937aead2-a668-46fd-8a30-b5de89a7446b",
   "metadata": {},
   "outputs": [
    {
     "data": {
      "text/plain": [
       "array([1, 3])"
      ]
     },
     "execution_count": 17,
     "metadata": {},
     "output_type": "execute_result"
    }
   ],
   "source": [
    "M[:,0] # first column "
   ]
  },
  {
   "cell_type": "code",
   "execution_count": 18,
   "id": "36a92a79-d236-4abd-ab09-1b12f032ce8a",
   "metadata": {},
   "outputs": [
    {
     "data": {
      "text/plain": [
       "array([3, 4])"
      ]
     },
     "execution_count": 18,
     "metadata": {},
     "output_type": "execute_result"
    }
   ],
   "source": [
    "M[1,:] # last row "
   ]
  },
  {
   "cell_type": "code",
   "execution_count": 19,
   "id": "aa3f603f-c830-4d92-a13d-d060d03333b9",
   "metadata": {},
   "outputs": [
    {
     "data": {
      "text/plain": [
       "array([2, 4, 4])"
      ]
     },
     "execution_count": 19,
     "metadata": {},
     "output_type": "execute_result"
    }
   ],
   "source": [
    "M[[0,1,1], [1,1,1]] # specific elements"
   ]
  },
  {
   "cell_type": "code",
   "execution_count": 20,
   "id": "aaa61d42-5986-4b50-983c-a33996a3eadb",
   "metadata": {},
   "outputs": [
    {
     "data": {
      "text/plain": [
       "array([[2, 2, 2],\n",
       "       [4, 4, 4],\n",
       "       [4, 4, 4]])"
      ]
     },
     "execution_count": 20,
     "metadata": {},
     "output_type": "execute_result"
    }
   ],
   "source": [
    "M[[[0],[1],[1]], [1,1,1]] # specific rows and elements"
   ]
  },
  {
   "cell_type": "markdown",
   "id": "e83fc028-c7a4-44d7-b93a-0d77740210cd",
   "metadata": {},
   "source": [
    "### 2.3.3 - R Matrices\n",
    "In R matrices are an extension of the numeric or character vectors. They are simply an atomic vector with dimensions; the number of rows and columns. The elements of a matrix in R must be of the same data type. Matrices can be created in R using the `matrix()` operation or by changing the dimensional structure of a vector with the `dim()` function."
   ]
  },
  {
   "cell_type": "code",
   "execution_count": 13,
   "id": "778c0ab5-0118-4b87-90bd-fe09f54e339a",
   "metadata": {},
   "outputs": [
    {
     "name": "stdout",
     "output_type": "stream",
     "text": [
      "     [,1] [,2]\n",
      "[1,]   NA   NA\n",
      "[2,]   NA   NA\n"
     ]
    }
   ],
   "source": [
    "M <- matrix(nrow = 2, ncol = 2) # matrix with elements not set\n",
    "print(M)"
   ]
  },
  {
   "cell_type": "code",
   "execution_count": 18,
   "id": "fc121d9b-992d-49d7-932a-ff8e316d35e6",
   "metadata": {},
   "outputs": [
    {
     "name": "stdout",
     "output_type": "stream",
     "text": [
      "     [,1] [,2]\n",
      "[1,]    1    3\n",
      "[2,]    2    4\n"
     ]
    }
   ],
   "source": [
    "M <- matrix(c(1,2,3,4), ncol = 2, nrow = 2) # manual matrix creation\n",
    "print(M)"
   ]
  },
  {
   "cell_type": "code",
   "execution_count": 19,
   "id": "a3277476-92ea-4933-8de0-8a231fb55319",
   "metadata": {},
   "outputs": [
    {
     "name": "stdout",
     "output_type": "stream",
     "text": [
      "     [,1] [,2]\n",
      "[1,]    1    3\n",
      "[2,]    2    4\n"
     ]
    }
   ],
   "source": [
    "m <- c(1,2,3,4) # matrix from vector\n",
    "dim(m) <- c(2,2)\n",
    "print(m)"
   ]
  },
  {
   "cell_type": "markdown",
   "id": "d953d7f4-2404-46ba-bed2-784944b355a2",
   "metadata": {},
   "source": [
    "It should be noted how R fills the contents of a matrix, going along each column from top to bottom row. To change this filling to rows first, one can use `byrow = TRUE` inside the matrix call."
   ]
  },
  {
   "cell_type": "code",
   "execution_count": 21,
   "id": "01b1d83f-fc0e-4404-98f4-7a30ff955c13",
   "metadata": {},
   "outputs": [
    {
     "name": "stdout",
     "output_type": "stream",
     "text": [
      "     [,1] [,2]\n",
      "[1,]    1    2\n",
      "[2,]    3    4\n"
     ]
    }
   ],
   "source": [
    "M <- matrix(c(1,2,3,4), nrow = 2, byrow = TRUE) # filled by row first\n",
    "print(M)"
   ]
  },
  {
   "cell_type": "markdown",
   "id": "933cae10-e434-4736-a43c-85df6ed9f45f",
   "metadata": {},
   "source": [
    "### 2.3.4 - Indexing R Matrices\n",
    "Matrices in R are indexed with the same tools as that for vectors in R but one must now consider the additional dimension (across rows and columns)."
   ]
  },
  {
   "cell_type": "code",
   "execution_count": 23,
   "id": "270eb376-21a4-4783-84f9-4895efc34313",
   "metadata": {},
   "outputs": [
    {
     "name": "stdout",
     "output_type": "stream",
     "text": [
      "     [,1] [,2]\n",
      "[1,]    1    2\n",
      "[2,]    3    4\n"
     ]
    }
   ],
   "source": [
    "M <- matrix(c(1,2,3,4), nrow = 2, byrow = TRUE)\n",
    "print(M)"
   ]
  },
  {
   "cell_type": "code",
   "execution_count": 24,
   "id": "34adb0e4-d3e7-4ffc-a6e6-9a0f6d83a097",
   "metadata": {},
   "outputs": [
    {
     "data": {
      "text/html": [
       "1"
      ],
      "text/latex": [
       "1"
      ],
      "text/markdown": [
       "1"
      ],
      "text/plain": [
       "[1] 1"
      ]
     },
     "metadata": {},
     "output_type": "display_data"
    }
   ],
   "source": [
    "M[1,1] # first row, first column (top left)"
   ]
  },
  {
   "cell_type": "code",
   "execution_count": 25,
   "id": "d19c5b3e-af37-434e-93d3-ed08b9e75543",
   "metadata": {},
   "outputs": [
    {
     "data": {
      "text/html": [
       "4"
      ],
      "text/latex": [
       "4"
      ],
      "text/markdown": [
       "4"
      ],
      "text/plain": [
       "[1] 4"
      ]
     },
     "metadata": {},
     "output_type": "display_data"
    }
   ],
   "source": [
    "M[2,2] # last row, last colummn (bottom right)"
   ]
  },
  {
   "cell_type": "code",
   "execution_count": 32,
   "id": "0821ec59-5279-4924-a2fc-21f6a204298d",
   "metadata": {},
   "outputs": [
    {
     "name": "stdout",
     "output_type": "stream",
     "text": [
      "[1] 1 3\n"
     ]
    }
   ],
   "source": [
    "print(M[,1]) # first column"
   ]
  },
  {
   "cell_type": "code",
   "execution_count": 33,
   "id": "da9c655e-4408-4558-bef1-e258a95bc452",
   "metadata": {},
   "outputs": [
    {
     "name": "stdout",
     "output_type": "stream",
     "text": [
      "[1] 3 4\n"
     ]
    }
   ],
   "source": [
    "print(M[2,]) # last row"
   ]
  },
  {
   "cell_type": "code",
   "execution_count": 31,
   "id": "e9c9ac0f-e6e9-42dc-b78b-d8ecdd3d9eab",
   "metadata": {},
   "outputs": [
    {
     "name": "stdout",
     "output_type": "stream",
     "text": [
      "[1] 2 4 4\n"
     ]
    }
   ],
   "source": [
    "print(M[c(1,2,2), 2]) # specific elements"
   ]
  },
  {
   "cell_type": "code",
   "execution_count": 30,
   "id": "e477c494-33e3-4ded-bea7-146771be2e8e",
   "metadata": {},
   "outputs": [
    {
     "name": "stdout",
     "output_type": "stream",
     "text": [
      "     [,1] [,2] [,3]\n",
      "[1,]    2    2    2\n",
      "[2,]    4    4    4\n",
      "[3,]    4    4    4\n"
     ]
    }
   ],
   "source": [
    "print(M[c(1,2,2), c(2,2,2)]) # specific rows and elements"
   ]
  },
  {
   "cell_type": "markdown",
   "id": "a626f2b8-61ea-4cd4-93d3-7b88ba36d3fa",
   "metadata": {},
   "source": [
    "#   \n",
    "#   \n",
    "#   \n",
    "***\n",
    "***\n",
    "[8] Harris, C.R., Millman, K.J., van der Walt, S.J. et al, 2020. Array Programming with NumPy, [[link]](https://numpy.org)  <a class=\"anchor\" id=\"ref8\"></a>            "
   ]
  }
 ],
 "metadata": {
  "kernelspec": {
   "display_name": "Python 3",
   "language": "python",
   "name": "python3"
  },
  "language_info": {
   "codemirror_mode": {
    "name": "ipython",
    "version": 3
   },
   "file_extension": ".py",
   "mimetype": "text/x-python",
   "name": "python",
   "nbconvert_exporter": "python",
   "pygments_lexer": "ipython3",
   "version": "3.7.10"
  }
 },
 "nbformat": 4,
 "nbformat_minor": 5
}
