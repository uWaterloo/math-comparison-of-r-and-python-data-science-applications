{
 "cells": [
  {
   "cell_type": "markdown",
   "id": "b64aabca-81c9-45c3-9495-23e1d8773c78",
   "metadata": {
    "tags": []
   },
   "source": [
    "# 1 - Introduction\n",
    "This document is meant to be used as a reference and/or guide for students learning data science applications in R or Python for the first time. Individuals will most likely find this information more useful if they have prior knowledge in either R or Python and are trying to learn one or the other. There is a strong emphasis throughout this document on creating similar results in both languages and how to reproduce the results of one language in the other.\n",
    "\n",
    "R and Python are two different languages created by different people for different reasons. R was designed for statistical computing and computation, created by statisticians. On the other hand Python is a general purpose, object oriented language designed to highlight programmer productivity and flexibility. It wasn't until data science applications became more popular that people started to use the two languages for the same tasks. Modern day packages for both languages now allow one to perform such tasks in a way that there may be no clear advantage in using one over the other.\n",
    "\n",
    "When it comes to data science applications, the two languages have code bases which are structured much differently. One can think of R as a collection of many smaller packages built on top of R's built-in functions. These smaller packages each have their own functions to perform specific tasks. Python can be thought of as a collection of larger packages. These larger packages can usually perform a wide range of tasks and can be used for multiple reasons. For example Python's PyTorch module can be used in many different areas of machine learning. Essentially, this can be broken down into a decision of either learning a large number of smaller R packages or learning a small number of larger Python modules.\n",
    "\n",
    "If you have not learned either R or Python yet and do not know which to choose, I recommend doing some additional research on both of these languages. I would start off by watching all or a subset of these Youtube videos:  \n",
    "* [[1] R Vs Python | Which is Better for Data Analysis?](#ref1)   \n",
    "* [[2] Python Vs R | Which is the best Programming Language](#ref2)   \n",
    "* [[3] R vs Python - What should I learn in 2020?](#ref3)     \n",
    "\n",
    "These videos will provide a great start in helping you choose a language to begin with. After watching these videos I would then look at more technical information. Try reading the short infographic created by DataCamp:  \n",
    "* [[4] Choosing Python or R for Data Analysis?](#ref4)   \n",
    "   \n",
    "Finally, a great document created by Lengersdorff, L. provides a short comparison of the two languages. This may be more suited for individuals with prior knowledge of R and Python:  \n",
    "* [[5] From R to Python-a short tutorial for (data) scientists](#ref5).   \n",
    "   \n",
    "Both R and Python have their own web pages which are full of download/installation instructions, documentation information and other news/events. The official web pages can be found at:   \n",
    "* [[6] R Core Team, 2020. R: A Language and Environment for Statistical Computing](#ref6)\n",
    "* [[7] Van Rossum, G. & Drake, F.L., 2009. Python 3 Reference Manual](#ref7)   \n",
    "   \n",
    "The remainder of this document will cover many areas of data science applications in the form of examples (with code included). These sections include mathematical objects, mathematical operations, least square solutions, computational differences between the two languages, statistical analysis, data visualization and predictive modelling. It should be noted that throughout this document Python version 3.7.10 and R version 4.0.2 will be used."
   ]
  },
  {
   "cell_type": "code",
   "execution_count": 1,
   "id": "386de517-da0b-4c82-af4f-c43d68dfaca6",
   "metadata": {},
   "outputs": [
    {
     "name": "stdout",
     "output_type": "stream",
     "text": [
      "Python 3.7.10\n"
     ]
    }
   ],
   "source": [
    "!python --version"
   ]
  },
  {
   "cell_type": "code",
   "execution_count": 1,
   "id": "a27aeed1-26f2-40cf-b5e6-802e7836fe71",
   "metadata": {},
   "outputs": [
    {
     "data": {
      "text/html": [
       "'R version 4.0.2 (2020-06-22)'"
      ],
      "text/latex": [
       "'R version 4.0.2 (2020-06-22)'"
      ],
      "text/markdown": [
       "'R version 4.0.2 (2020-06-22)'"
      ],
      "text/plain": [
       "[1] \"R version 4.0.2 (2020-06-22)\""
      ]
     },
     "metadata": {},
     "output_type": "display_data"
    }
   ],
   "source": [
    "version$version.string"
   ]
  },
  {
   "cell_type": "markdown",
   "id": "01dc8d34-e0eb-4d47-bb1f-2291e634630c",
   "metadata": {},
   "source": [
    "#   \n",
    "#   \n",
    "#   \n",
    "***\n",
    "***\n",
    "[1] Alex The Analyst, 2021. R vs Python | Which is Better for Data Analysis?, [[online video]](https://www.youtube.com/watch?v=1gdKC5O0Pwc)    <a class=\"anchor\" id=\"ref1\"></a>     \n",
    "[2] Great Learning, 2021. Python Vs R | Which is the best Programming Language, [[online video]](https://www.youtube.com/watch?v=cdh4SfLe9oo)    <a class=\"anchor\" id=\"ref2\"></a>    \n",
    "[3] Intellipaat, 2019. R vs Python - What should I learn in 2020? | R and Python Comparison, [[online video]](https://www.youtube.com/watch?v=eRP_J2yLjSU)    <a class=\"anchor\" id=\"ref3\"></a>    \n",
    "[4] DataCamp Team, 2020. Choosing Python or R for Data Analysis? An Infographic, [[link]](https://www.datacamp.com/tutorial/r-or-python-for-data-analysis) <a class=\"anchor\" id=\"ref4\"></a>           \n",
    "[5] Lengersdorff, L., From R to Python-a short tutorial for (data) scientists, [[link]](https://tinyurl.com/R2Python) <a class=\"anchor\" id=\"ref5\"></a>       \n",
    "[6] R Core Team, 2020. R: A Language and Environment for Statistical Computing, [[link]](https://www.R-project.org) <a class=\"anchor\" id=\"ref6\"></a>      \n",
    "[7] Van Rossum, G. & Drake, F.L., 2009. Python 3 Reference Manual, [[link]](https://www.python.org/) <a class=\"anchor\" id=\"ref7\"></a>  "
   ]
  }
 ],
 "metadata": {
  "kernelspec": {
   "display_name": "R 4.0.2",
   "language": "R",
   "name": "uw-r-4-0-2-ivybridge"
  },
  "language_info": {
   "codemirror_mode": "r",
   "file_extension": ".r",
   "mimetype": "text/x-r-source",
   "name": "R",
   "pygments_lexer": "r",
   "version": "4.0.2"
  }
 },
 "nbformat": 4,
 "nbformat_minor": 5
}
