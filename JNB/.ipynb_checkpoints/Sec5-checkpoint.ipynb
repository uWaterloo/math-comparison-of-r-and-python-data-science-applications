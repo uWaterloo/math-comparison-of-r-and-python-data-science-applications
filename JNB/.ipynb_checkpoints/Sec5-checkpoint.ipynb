{
 "cells": [
  {
   "cell_type": "markdown",
   "id": "75fa4d6e-c5e9-49c0-aa32-f29d571e8a06",
   "metadata": {},
   "source": [
    "# 5 - Subtle But Important Differences\n",
    "R and Python have many differences. Some of the major ones involve initializing and/or creating objects, editing/mutating objects, and how those objects are stored in memory."
   ]
  },
  {
   "cell_type": "code",
   "execution_count": 22,
   "id": "8fb2041e-44a2-45eb-aaa5-d1119038f1da",
   "metadata": {
    "jupyter": {
     "source_hidden": true
    },
    "tags": [
     "hide_code"
    ]
   },
   "outputs": [],
   "source": [
    "import numpy as np\n",
    "import pandas as pd\n",
    "import time"
   ]
  },
  {
   "cell_type": "markdown",
   "id": "7cd69da8-4ad7-42a4-aa27-db5bf5ac454b",
   "metadata": {},
   "source": [
    "## 5.1 - Initializing Objects in R\n",
    "R will initialize new memory for all created objects. The easiest way to show this is with a simple example initializing matrices. If we create a matrix $A$ and then call a new variable $B$ and set it equal to $𝐴$ (`𝐵 <- 𝐴`), these matrices are actually \"pointing\" to different spaces in memory. Changing the contents of $A$ will NOT change the contents of $B$. $A$ and $B$ will actually share the same space in memory until something is done to modify one of them, at which point it is copied to a new location in memory (\"copy-on-modify\" semantics)."
   ]
  },
  {
   "cell_type": "code",
   "execution_count": 1,
   "id": "d0da7a55-5d13-41cb-82f5-efa183439af2",
   "metadata": {},
   "outputs": [
    {
     "name": "stdout",
     "output_type": "stream",
     "text": [
      "     [,1] [,2]\n",
      "[1,]    1    1\n",
      "[2,]    1    1\n",
      "     [,1] [,2]\n",
      "[1,]    1    1\n",
      "[2,]    1    1\n"
     ]
    }
   ],
   "source": [
    "A <- matrix(c(1,1,1,1), ncol = 2)\n",
    "B <- A\n",
    "print(A)\n",
    "print(B)"
   ]
  },
  {
   "cell_type": "code",
   "execution_count": 2,
   "id": "6664dd46-0894-4ebc-8b06-c01be575d84a",
   "metadata": {},
   "outputs": [
    {
     "name": "stdout",
     "output_type": "stream",
     "text": [
      "     [,1] [,2]\n",
      "[1,]    2    1\n",
      "[2,]    1    1\n",
      "     [,1] [,2]\n",
      "[1,]    1    1\n",
      "[2,]    1    1\n"
     ]
    }
   ],
   "source": [
    "A[1,1] <- 2 # only A is changed\n",
    "print(A)\n",
    "print(B)"
   ]
  },
  {
   "cell_type": "markdown",
   "id": "0af80e35-df4b-46ec-8f1e-ac2cdcb0d45f",
   "metadata": {
    "tags": []
   },
   "source": [
    "Notice how only the contents of the matrix $A$ are changed. R’s built-in copy-on-modify process prevents users from having two symbols always pointing to the same object; the concept of pointers does not fit naturally into R’s language concept. In order to achieve similar functionality to Python one needs the help of an external package 'pointr'. \n",
    "### 5.1.1 R pointr Package\n",
    "As per the pointr documentation page [[12] pointr: Working Comfortably with Pointers and Shortcuts to R Objects](#ref12) \"R has no built-in pointer functionality. The pointr package fills this gap and lets you create pointers to R objects, including subsets of data frames. This makes your R code more readable and maintainable.\" The pointr package provides functionality to create pointers to any R object easily, including pointers to subsets/selections from data frames.   \n",
    "\n",
    "Like other R packages, the pointr package can be installed in R or R Studio with the command `install.packages('pointr')`. Once the package is installed it can be loaded/imported with the command `library(pointr)`after which all the package functions will be available for use. It should be noted that pointr package version 0.1.0 is being used."
   ]
  },
  {
   "cell_type": "code",
   "execution_count": 3,
   "id": "9b327771-3321-41c0-816a-ac1e6a2bd71b",
   "metadata": {},
   "outputs": [
    {
     "data": {
      "text/plain": [
       "[1] ‘0.1.0’"
      ]
     },
     "metadata": {},
     "output_type": "display_data"
    }
   ],
   "source": [
    "# install.packages('pointr') -> run if not installed\n",
    "library(pointr)\n",
    "packageVersion(\"pointr\")"
   ]
  },
  {
   "cell_type": "code",
   "execution_count": 4,
   "id": "25a3fffa-8190-4fd6-ad67-f6c944e964bc",
   "metadata": {},
   "outputs": [
    {
     "name": "stdout",
     "output_type": "stream",
     "text": [
      "     [,1] [,2]\n",
      "[1,]    1    1\n",
      "[2,]    1    1\n",
      "     [,1] [,2]\n",
      "[1,]    1    1\n",
      "[2,]    1    1\n"
     ]
    }
   ],
   "source": [
    "A <- matrix(c(1,1,1,1), ncol = 2)\n",
    "ptr(\"A_ptr\", \"A\") # A_ptr points to A\n",
    "print(A)\n",
    "print(A_ptr)"
   ]
  },
  {
   "cell_type": "code",
   "execution_count": 5,
   "id": "ef1cf631-a994-43c4-85d6-10489b7274c0",
   "metadata": {},
   "outputs": [
    {
     "name": "stdout",
     "output_type": "stream",
     "text": [
      "     [,1] [,2]\n",
      "[1,]   15    1\n",
      "[2,]    1    1\n",
      "     [,1] [,2]\n",
      "[1,]   15    1\n",
      "[2,]    1    1\n"
     ]
    }
   ],
   "source": [
    "A[1,1] <- 15 # both change\n",
    "print(A)\n",
    "print(A_ptr)"
   ]
  },
  {
   "cell_type": "code",
   "execution_count": 6,
   "id": "044769a2-c6a4-46bf-9218-141d2bcb92f8",
   "metadata": {},
   "outputs": [
    {
     "name": "stdout",
     "output_type": "stream",
     "text": [
      "     [,1] [,2]\n",
      "[1,]    0    1\n",
      "[2,]    1    1\n",
      "     [,1] [,2]\n",
      "[1,]    0    1\n",
      "[2,]    1    1\n"
     ]
    }
   ],
   "source": [
    "A_ptr[1,1] <- 0 # both change\n",
    "print(A)\n",
    "print(A_ptr)"
   ]
  },
  {
   "cell_type": "markdown",
   "id": "57f834f9-b1b5-40df-abd5-5c4c5b90a978",
   "metadata": {},
   "source": [
    "Notice how the contents of both matrices change when changing the values in one or the other."
   ]
  },
  {
   "cell_type": "markdown",
   "id": "6e073d37-8e8f-4b37-bcfa-3d4e2cdff36c",
   "metadata": {},
   "source": [
    "## 5.2 - Initializing Objects in Python \n",
    "Unlike R, Python does not initialize new memory for all created objects. The easiest way to show this is with a simple example initializing matrices. If we create a NumPy matrix $A$ and then call a new variable $B$ and set it equal to $A$ (`B = A`), both matrices are now \"pointing\" to the same space in memory. Changing the contents of $A$ will also change the contents of $B$."
   ]
  },
  {
   "cell_type": "code",
   "execution_count": 11,
   "id": "0543ade6-c221-4e55-988f-680c535e3d51",
   "metadata": {},
   "outputs": [
    {
     "data": {
      "text/plain": [
       "(array([[1, 1],\n",
       "        [1, 1]]),\n",
       " array([[1, 1],\n",
       "        [1, 1]]))"
      ]
     },
     "execution_count": 11,
     "metadata": {},
     "output_type": "execute_result"
    }
   ],
   "source": [
    "A = np.array([[1,1],[1,1]])\n",
    "B = A\n",
    "A, B"
   ]
  },
  {
   "cell_type": "code",
   "execution_count": 12,
   "id": "249d4fbe-bea9-474b-a462-d8bb38bcbd74",
   "metadata": {},
   "outputs": [
    {
     "data": {
      "text/plain": [
       "(array([[15,  1],\n",
       "        [ 1,  1]]),\n",
       " array([[15,  1],\n",
       "        [ 1,  1]]))"
      ]
     },
     "execution_count": 12,
     "metadata": {},
     "output_type": "execute_result"
    }
   ],
   "source": [
    "A[0,0] = 15 # both change\n",
    "A,B"
   ]
  },
  {
   "cell_type": "markdown",
   "id": "9ddd1629-b642-4fed-87f6-edd5ec915459",
   "metadata": {},
   "source": [
    "Notice how the contents of both matrices are changed. Performing this same sequence of code in R will produce two separate matrices in memory for $A$ and $B$. Changing the contents of $A$ would not affect $B$ at all. This is a major difference between the two languages and can lead to coding bugs if this initialization is not done carefully. For Python to behave the same way as R in this case, one needs to make use of the NumPy `copy()` function. We wish to have the matrix $B$ initialized with the same contents as $A$ but stored in separate memory as its own object."
   ]
  },
  {
   "cell_type": "code",
   "execution_count": 13,
   "id": "fc86e768-a788-44ef-989c-2a690121281e",
   "metadata": {},
   "outputs": [
    {
     "data": {
      "text/plain": [
       "(array([[1, 1],\n",
       "        [1, 1]]),\n",
       " array([[1, 1],\n",
       "        [1, 1]]))"
      ]
     },
     "execution_count": 13,
     "metadata": {},
     "output_type": "execute_result"
    }
   ],
   "source": [
    "A = np.array([[1,1],[1,1]])\n",
    "B = np.copy(A)\n",
    "A, B"
   ]
  },
  {
   "cell_type": "code",
   "execution_count": 14,
   "id": "f23fc512-7b22-44af-8495-040259d418f1",
   "metadata": {},
   "outputs": [
    {
     "data": {
      "text/plain": [
       "(array([[15,  1],\n",
       "        [ 1,  1]]),\n",
       " array([[1, 1],\n",
       "        [1, 1]]))"
      ]
     },
     "execution_count": 14,
     "metadata": {},
     "output_type": "execute_result"
    }
   ],
   "source": [
    "A[0,0] = 15 # only A changes\n",
    "A,B"
   ]
  },
  {
   "cell_type": "markdown",
   "id": "3df651c8-abe6-43b6-8669-72ec127550eb",
   "metadata": {},
   "source": [
    "Notice now only the contents of the matrix $A$ are changed. It should be noted that the NumPy `copy()` function is a \"shallow\" copy: it will not copy object elements within array. In the example above we just have numerical arrays (matrix) which do not contain objects so the copy is performed correctly. If one element was added, say character 'a', then a `deepcopy()` call would be needed because the basic NumPy `copy()` no longer works."
   ]
  },
  {
   "cell_type": "code",
   "execution_count": 15,
   "id": "0f380bba-1074-41e1-9769-99a577bd9385",
   "metadata": {},
   "outputs": [
    {
     "data": {
      "text/plain": [
       "(array([list([1, 1]), 'a', list([1, 1])], dtype=object),\n",
       " array([list([1, 1]), 'a', list([1, 1])], dtype=object))"
      ]
     },
     "execution_count": 15,
     "metadata": {},
     "output_type": "execute_result"
    }
   ],
   "source": [
    "A = np.array([[1,1],'a', [1,1]], dtype = object)\n",
    "B = np.copy(A)\n",
    "A, B"
   ]
  },
  {
   "cell_type": "code",
   "execution_count": 16,
   "id": "79141083-4753-4ada-a7e5-34a169003fd6",
   "metadata": {},
   "outputs": [
    {
     "data": {
      "text/plain": [
       "(array([list([15, 1]), 'a', list([1, 1])], dtype=object),\n",
       " array([list([15, 1]), 'a', list([1, 1])], dtype=object))"
      ]
     },
     "execution_count": 16,
     "metadata": {},
     "output_type": "execute_result"
    }
   ],
   "source": [
    "A[0][0] = 15 # changes both\n",
    "A, B"
   ]
  },
  {
   "cell_type": "markdown",
   "id": "1ae56886-ced5-4f7f-9718-6915cbfc7c39",
   "metadata": {},
   "source": [
    "Notice how the contents of both the matrix $A$ and $B$ are changed."
   ]
  },
  {
   "cell_type": "markdown",
   "id": "519d570c-44a2-432b-b2ef-e12ba1eac66d",
   "metadata": {},
   "source": [
    "### 5.2.1 Python copy Module\n",
    "Documentation for the copy module can be found at [[7]](#ref7) where they explain the difference between `copy()` and `deepcopy()`. \"A shallow copy constructs a new compound object and then (to the extent possible) inserts references into it to the objects found in the original. A deep copy constructs a new compound object and then, recursively, inserts copies into it of the objects found in the original.\""
   ]
  },
  {
   "cell_type": "code",
   "execution_count": 17,
   "id": "0837e2ef-01fc-4177-9ba8-f966b723eed8",
   "metadata": {},
   "outputs": [],
   "source": [
    "import copy # object copying"
   ]
  },
  {
   "cell_type": "code",
   "execution_count": 18,
   "id": "2b85b232-feca-4439-8766-622a06d8ab6b",
   "metadata": {},
   "outputs": [
    {
     "data": {
      "text/plain": [
       "(array([list([1, 1]), 'a', list([1, 1])], dtype=object),\n",
       " array([list([1, 1]), 'a', list([1, 1])], dtype=object))"
      ]
     },
     "execution_count": 18,
     "metadata": {},
     "output_type": "execute_result"
    }
   ],
   "source": [
    "A = np.array([[1,1],'a', [1,1]], dtype = object)\n",
    "B = copy.deepcopy(A)\n",
    "A, B"
   ]
  },
  {
   "cell_type": "code",
   "execution_count": 19,
   "id": "2ace57be-8723-42d3-a78b-9630901c0d04",
   "metadata": {},
   "outputs": [
    {
     "data": {
      "text/plain": [
       "(array([list([15, 1]), 'a', list([1, 1])], dtype=object),\n",
       " array([list([1, 1]), 'a', list([1, 1])], dtype=object))"
      ]
     },
     "execution_count": 19,
     "metadata": {},
     "output_type": "execute_result"
    }
   ],
   "source": [
    "A[0][0] = 15 # only A changes\n",
    "A, B"
   ]
  },
  {
   "cell_type": "markdown",
   "id": "fdb8329a-8d83-4777-ad4f-52f0db2d978b",
   "metadata": {},
   "source": [
    "Notice how only the contents of the matrix $A$ are changed."
   ]
  },
  {
   "cell_type": "markdown",
   "id": "5a818a46-6d52-4577-b6e3-65e76fb582e3",
   "metadata": {},
   "source": [
    "## 5.3 - R Pre-Allocation vs. Appending \n",
    "In general, a list or an array of elements can be created by appending to the front/back of the list or by updating specific elements. For example, a list of size three with all elements equal to zero ($[0,0,0]$) can be created by initializing an empty list ($[]$) and appending 0 to the front or back three times. Alternatively, this can be done by initializing a list of size three of any elements ($[e_1, e_2, e_3]$) then updating each element to 0. This section should be a major point of focus and interest to those concerned about the differences in computational run time for these two methods. In R, one should always pre-allocate space for an object and avoid appending whenever possible. An experiment in R is run below where the run time to create arrays of varying sizes is tracked. A method of iteratively appending values to an empty array is tested against a method of filling an array of a pre-specified size with the same values. Note: the arrays built in each iteration are just arrays of ones ([1,1,....,1])."
   ]
  },
  {
   "cell_type": "code",
   "execution_count": 26,
   "id": "8d4a572f-664b-4f64-ac8d-d74861039dad",
   "metadata": {},
   "outputs": [],
   "source": [
    "N <- c(2, 10, 100, 500, 1000, 5000, 10000, 20000, 50000, 100000)\n",
    "app_time <- numeric(length(N))\n",
    "pre_time <- numeric(length(N))\n",
    "count <- 1\n",
    "for (j in N) {\n",
    "    l1 <- c()\n",
    "    l2 <- numeric(j)\n",
    "    \n",
    "    t <- Sys.time()\n",
    "    for (i in 1:j) {\n",
    "        l1 <- append(l1, 1)\n",
    "    app_time[count] <- Sys.time() - t\n",
    "    }\n",
    "    \n",
    "    t2 = Sys.time()\n",
    "    for (i in 1:j) {\n",
    "        l2[i] = 1\n",
    "    pre_time[count] <- Sys.time() - t2\n",
    "    }\n",
    "    \n",
    "    count <- count + 1\n",
    "}"
   ]
  },
  {
   "cell_type": "code",
   "execution_count": 39,
   "id": "966b6522-1526-43fa-90b1-3b307536ba03",
   "metadata": {
    "jupyter": {
     "source_hidden": true
    },
    "tags": [
     "hide_code"
    ]
   },
   "outputs": [
    {
     "data": {
      "text/html": [
       "<table class=\"dataframe\">\n",
       "<caption>A matrix: 9 x 3 of type dbl</caption>\n",
       "<thead>\n",
       "\t<tr><th scope=col>Array of size N</th><th scope=col>Appending</th><th scope=col>Pre-Allocation</th></tr>\n",
       "</thead>\n",
       "<tbody>\n",
       "\t<tr><td>    10</td><td> 0.000236</td><td>0.000204</td></tr>\n",
       "\t<tr><td>   100</td><td> 0.002469</td><td>0.002213</td></tr>\n",
       "\t<tr><td>   500</td><td> 0.012527</td><td>0.011183</td></tr>\n",
       "\t<tr><td>  1000</td><td> 0.027220</td><td>0.022216</td></tr>\n",
       "\t<tr><td>  5000</td><td> 0.162233</td><td>0.114250</td></tr>\n",
       "\t<tr><td> 10000</td><td> 0.399416</td><td>0.237125</td></tr>\n",
       "\t<tr><td> 20000</td><td> 1.149267</td><td>0.443867</td></tr>\n",
       "\t<tr><td> 50000</td><td> 5.199226</td><td>1.125084</td></tr>\n",
       "\t<tr><td>100000</td><td>18.368219</td><td>2.252459</td></tr>\n",
       "</tbody>\n",
       "</table>\n"
      ],
      "text/latex": [
       "A matrix: 9 x 3 of type dbl\n",
       "\\begin{tabular}{lll}\n",
       " Array of size N & Appending & Pre-Allocation\\\\\n",
       "\\hline\n",
       "\t     10 &  0.000236 & 0.000204\\\\\n",
       "\t    100 &  0.002469 & 0.002213\\\\\n",
       "\t    500 &  0.012527 & 0.011183\\\\\n",
       "\t   1000 &  0.027220 & 0.022216\\\\\n",
       "\t   5000 &  0.162233 & 0.114250\\\\\n",
       "\t  10000 &  0.399416 & 0.237125\\\\\n",
       "\t  20000 &  1.149267 & 0.443867\\\\\n",
       "\t  50000 &  5.199226 & 1.125084\\\\\n",
       "\t 100000 & 18.368219 & 2.252459\\\\\n",
       "\\end{tabular}\n"
      ],
      "text/markdown": [
       "\n",
       "A matrix: 9 x 3 of type dbl\n",
       "\n",
       "| Array of size N | Appending | Pre-Allocation |\n",
       "|---|---|---|\n",
       "|     10 |  0.000236 | 0.000204 |\n",
       "|    100 |  0.002469 | 0.002213 |\n",
       "|    500 |  0.012527 | 0.011183 |\n",
       "|   1000 |  0.027220 | 0.022216 |\n",
       "|   5000 |  0.162233 | 0.114250 |\n",
       "|  10000 |  0.399416 | 0.237125 |\n",
       "|  20000 |  1.149267 | 0.443867 |\n",
       "|  50000 |  5.199226 | 1.125084 |\n",
       "| 100000 | 18.368219 | 2.252459 |\n",
       "\n"
      ],
      "text/plain": [
       "      Array of size N Appending Pre-Allocation\n",
       " [1,]     10           0.000236 0.000204      \n",
       " [2,]    100           0.002469 0.002213      \n",
       " [3,]    500           0.012527 0.011183      \n",
       " [4,]   1000           0.027220 0.022216      \n",
       " [5,]   5000           0.162233 0.114250      \n",
       " [6,]  10000           0.399416 0.237125      \n",
       " [7,]  20000           1.149267 0.443867      \n",
       " [8,]  50000           5.199226 1.125084      \n",
       " [9,] 100000          18.368219 2.252459      "
      ]
     },
     "metadata": {},
     "output_type": "display_data"
    }
   ],
   "source": [
    "res <- cbind(round(N, 1), round(app_time, 6), round(pre_time, 6))\n",
    "colnames(res) <- c('Array of size N', \"Appending\", 'Pre-Allocation')\n",
    "res[2:10,]"
   ]
  },
  {
   "cell_type": "markdown",
   "id": "2a1ffbd9-48ac-4755-9798-be8e55bd0e78",
   "metadata": {},
   "source": [
    "Note: computational run times will vary depending on the machine one uses but these overall trends should stay the same. One can notice the drastic difference in runtime when comparing these two methods. The difference in run time increases as the size of the desired array increases. Clearly the pre-allocation method is superior to appending in R. This is because R creates a new space in memory for the entire object each time you append an element.  In other words, R creates a new object with size 1 greater than the old one and then copies each of the old object values into the new one."
   ]
  },
  {
   "cell_type": "markdown",
   "id": "8e9123c5-3357-4b56-b1f8-de80923b5063",
   "metadata": {},
   "source": [
    "## 5.4 - Python Pre-Allocation vs. Appending \n",
    "Similar to what was done above in R, a small experiment is run in Python comparing the methods of pre-allocation and appending."
   ]
  },
  {
   "cell_type": "code",
   "execution_count": 27,
   "id": "a55d5e9b-5c68-480b-aa96-8b54cfb3c401",
   "metadata": {},
   "outputs": [],
   "source": [
    "N = np.array([2, 10, 100, 500, 1000, 5000, 10000, 20000, 50000, 100000])\n",
    "app_time = []\n",
    "pre_time = []\n",
    "for j in N:\n",
    "    l1 =[]\n",
    "    l2 = [0] * j\n",
    "    \n",
    "    t = time.time()\n",
    "    for i in range(j):\n",
    "        l1.append(1)\n",
    "    t2 = time.time() - t\n",
    "    app_time.append(t2)\n",
    "    \n",
    "    t3 = time.time()\n",
    "    for i in range(j):\n",
    "        l2[i] = 1\n",
    "    t4 = time.time() - t3\n",
    "    pre_time.append(t4)"
   ]
  },
  {
   "cell_type": "code",
   "execution_count": 29,
   "id": "ff9d2711-22bc-49fc-85f2-b1bdedb2a635",
   "metadata": {
    "jupyter": {
     "source_hidden": true
    },
    "tags": [
     "hide_code"
    ]
   },
   "outputs": [
    {
     "data": {
      "text/html": [
       "<style  type=\"text/css\" >\n",
       "</style><table id=\"T_00f6e458_0e92_11ed_8f95_b03af2b6059f\" style='display:inline'><caption>Computational Runtime (seconds)</caption><thead>    <tr>        <th class=\"col_heading level0 col0\" >Array of size N</th>        <th class=\"col_heading level0 col1\" >Appending</th>        <th class=\"col_heading level0 col2\" >Pre-Allocation</th>    </tr></thead><tbody>\n",
       "                <tr>\n",
       "                                <td id=\"T_00f6e458_0e92_11ed_8f95_b03af2b6059frow0_col0\" class=\"data row0 col0\" >10</td>\n",
       "                        <td id=\"T_00f6e458_0e92_11ed_8f95_b03af2b6059frow0_col1\" class=\"data row0 col1\" >0.000002</td>\n",
       "                        <td id=\"T_00f6e458_0e92_11ed_8f95_b03af2b6059frow0_col2\" class=\"data row0 col2\" >0.000001</td>\n",
       "            </tr>\n",
       "            <tr>\n",
       "                                <td id=\"T_00f6e458_0e92_11ed_8f95_b03af2b6059frow1_col0\" class=\"data row1 col0\" >100</td>\n",
       "                        <td id=\"T_00f6e458_0e92_11ed_8f95_b03af2b6059frow1_col1\" class=\"data row1 col1\" >0.000011</td>\n",
       "                        <td id=\"T_00f6e458_0e92_11ed_8f95_b03af2b6059frow1_col2\" class=\"data row1 col2\" >0.000009</td>\n",
       "            </tr>\n",
       "            <tr>\n",
       "                                <td id=\"T_00f6e458_0e92_11ed_8f95_b03af2b6059frow2_col0\" class=\"data row2 col0\" >500</td>\n",
       "                        <td id=\"T_00f6e458_0e92_11ed_8f95_b03af2b6059frow2_col1\" class=\"data row2 col1\" >0.000050</td>\n",
       "                        <td id=\"T_00f6e458_0e92_11ed_8f95_b03af2b6059frow2_col2\" class=\"data row2 col2\" >0.000043</td>\n",
       "            </tr>\n",
       "            <tr>\n",
       "                                <td id=\"T_00f6e458_0e92_11ed_8f95_b03af2b6059frow3_col0\" class=\"data row3 col0\" >1000</td>\n",
       "                        <td id=\"T_00f6e458_0e92_11ed_8f95_b03af2b6059frow3_col1\" class=\"data row3 col1\" >0.000102</td>\n",
       "                        <td id=\"T_00f6e458_0e92_11ed_8f95_b03af2b6059frow3_col2\" class=\"data row3 col2\" >0.000086</td>\n",
       "            </tr>\n",
       "            <tr>\n",
       "                                <td id=\"T_00f6e458_0e92_11ed_8f95_b03af2b6059frow4_col0\" class=\"data row4 col0\" >5000</td>\n",
       "                        <td id=\"T_00f6e458_0e92_11ed_8f95_b03af2b6059frow4_col1\" class=\"data row4 col1\" >0.000500</td>\n",
       "                        <td id=\"T_00f6e458_0e92_11ed_8f95_b03af2b6059frow4_col2\" class=\"data row4 col2\" >0.000455</td>\n",
       "            </tr>\n",
       "            <tr>\n",
       "                                <td id=\"T_00f6e458_0e92_11ed_8f95_b03af2b6059frow5_col0\" class=\"data row5 col0\" >10000</td>\n",
       "                        <td id=\"T_00f6e458_0e92_11ed_8f95_b03af2b6059frow5_col1\" class=\"data row5 col1\" >0.000999</td>\n",
       "                        <td id=\"T_00f6e458_0e92_11ed_8f95_b03af2b6059frow5_col2\" class=\"data row5 col2\" >0.001187</td>\n",
       "            </tr>\n",
       "            <tr>\n",
       "                                <td id=\"T_00f6e458_0e92_11ed_8f95_b03af2b6059frow6_col0\" class=\"data row6 col0\" >20000</td>\n",
       "                        <td id=\"T_00f6e458_0e92_11ed_8f95_b03af2b6059frow6_col1\" class=\"data row6 col1\" >0.002029</td>\n",
       "                        <td id=\"T_00f6e458_0e92_11ed_8f95_b03af2b6059frow6_col2\" class=\"data row6 col2\" >0.001843</td>\n",
       "            </tr>\n",
       "            <tr>\n",
       "                                <td id=\"T_00f6e458_0e92_11ed_8f95_b03af2b6059frow7_col0\" class=\"data row7 col0\" >50000</td>\n",
       "                        <td id=\"T_00f6e458_0e92_11ed_8f95_b03af2b6059frow7_col1\" class=\"data row7 col1\" >0.005026</td>\n",
       "                        <td id=\"T_00f6e458_0e92_11ed_8f95_b03af2b6059frow7_col2\" class=\"data row7 col2\" >0.004513</td>\n",
       "            </tr>\n",
       "            <tr>\n",
       "                                <td id=\"T_00f6e458_0e92_11ed_8f95_b03af2b6059frow8_col0\" class=\"data row8 col0\" >100000</td>\n",
       "                        <td id=\"T_00f6e458_0e92_11ed_8f95_b03af2b6059frow8_col1\" class=\"data row8 col1\" >0.009944</td>\n",
       "                        <td id=\"T_00f6e458_0e92_11ed_8f95_b03af2b6059frow8_col2\" class=\"data row8 col2\" >0.009273</td>\n",
       "            </tr>\n",
       "    </tbody></table>"
      ],
      "text/plain": [
       "<pandas.io.formats.style.Styler at 0x7fd87266e110>"
      ]
     },
     "execution_count": 29,
     "metadata": {},
     "output_type": "execute_result"
    }
   ],
   "source": [
    "df = pd.DataFrame({'Array of size N':N[1:], \n",
    "                   \"Appending\":app_time[1:], \n",
    "                   \"Pre-Allocation\":pre_time[1:]})\n",
    "df.style.hide_index().set_table_attributes(\"style='display:inline'\").set_caption('Computational Runtime (seconds)')"
   ]
  },
  {
   "cell_type": "markdown",
   "id": "3831ddf7-8fdf-4c6c-8c72-8a47e5682140",
   "metadata": {},
   "source": [
    "Note: computational run times will vary depending on the machine one uses but these overall trends should stay the same. It is shown that pre-allocating in Python is only slightly faster than appending, but there is not much of a gain; the two methods are comparable. This is a completely different result compared to the experiment in R, which showed one should always pre-allocate. In Python this is something the user does not need to be as concerned about as the methods can be interchanged without significant change in run time."
   ]
  },
  {
   "cell_type": "markdown",
   "id": "9df2ecd7-d6e5-46ca-96fe-422645140994",
   "metadata": {},
   "source": [
    "#   \n",
    "#   \n",
    "#   \n",
    "***\n",
    "***\n",
    "[7] Van Rossum, G. & Drake, F.L., 2009. Python 3 Reference Manual, [[link]](https://www.python.org/) <a class=\"anchor\" id=\"ref7\"></a>    \n",
    "[12] Joachim Zuckarelli, 2020. pointr: Working Comfortably with Pointers and Shortcuts to R Objects, [[link]](https://CRAN.R-project.org/package=pointr) <a class=\"anchor\" id=\"ref12\"></a> "
   ]
  }
 ],
 "metadata": {
  "kernelspec": {
   "display_name": "Python 3",
   "language": "python",
   "name": "python3"
  },
  "language_info": {
   "codemirror_mode": {
    "name": "ipython",
    "version": 3
   },
   "file_extension": ".py",
   "mimetype": "text/x-python",
   "name": "python",
   "nbconvert_exporter": "python",
   "pygments_lexer": "ipython3",
   "version": "3.10.6"
  }
 },
 "nbformat": 4,
 "nbformat_minor": 5
}
